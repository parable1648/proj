{
 "cells": [
  {
   "cell_type": "code",
   "execution_count": 3,
   "id": "020ae36c",
   "metadata": {},
   "outputs": [],
   "source": [
    "import tensorflow as tf\n",
    "from tensorflow import keras\n",
    "import numpy as np\n",
    "from matplotlib import pyplot"
   ]
  },
  {
   "cell_type": "code",
   "execution_count": 4,
   "id": "6a641a12",
   "metadata": {},
   "outputs": [],
   "source": [
    "(X_train,y_train),(X_test,y_test)=keras.datasets.fashion_mnist.load_data()"
   ]
  },
  {
   "cell_type": "code",
   "execution_count": 5,
   "id": "fd173967",
   "metadata": {},
   "outputs": [
    {
     "data": {
      "text/plain": [
       "(60000, 28, 28)"
      ]
     },
     "execution_count": 5,
     "metadata": {},
     "output_type": "execute_result"
    }
   ],
   "source": [
    "X_train.shape"
   ]
  },
  {
   "cell_type": "code",
   "execution_count": 6,
   "id": "05f21c80",
   "metadata": {},
   "outputs": [
    {
     "data": {
      "text/plain": [
       "dtype('uint8')"
      ]
     },
     "execution_count": 6,
     "metadata": {},
     "output_type": "execute_result"
    }
   ],
   "source": [
    "X_train.dtype"
   ]
  },
  {
   "cell_type": "code",
   "execution_count": 7,
   "id": "a65c49b6",
   "metadata": {},
   "outputs": [],
   "source": [
    "X_train=X_train/255\n",
    "X_test=X_test/255\n"
   ]
  },
  {
   "cell_type": "code",
   "execution_count": 8,
   "id": "e0c7a8e7",
   "metadata": {},
   "outputs": [],
   "source": [
    "class_names=[\"Trzewik\",\"Koszulka\", \"Spodnie\", \"Sweter\", \"Sukienka\", \"Płaszcz\", \"Sandał\",\" Koszula\",\"Tenisówka\",\"Torebka\"]"
   ]
  },
  {
   "cell_type": "code",
   "execution_count": 9,
   "id": "b1740509",
   "metadata": {},
   "outputs": [
    {
     "data": {
      "text/plain": [
       "'Płaszcz'"
      ]
     },
     "execution_count": 9,
     "metadata": {},
     "output_type": "execute_result"
    }
   ],
   "source": [
    "class_names[y_train[8]]"
   ]
  },
  {
   "cell_type": "code",
   "execution_count": 10,
   "id": "abf258d6",
   "metadata": {},
   "outputs": [],
   "source": [
    "model=keras.models.Sequential()\n",
    "model.add(keras.layers.Flatten(input_shape=[28,28]))\n",
    "model.add(keras.layers.Dense(300,activation=\"relu\"))\n",
    "model.add(keras.layers.Dense(100,activation=\"relu\"))\n",
    "model.add(keras.layers.Dense(20,activation=\"relu\"))\n",
    "model.add(keras.layers.Dense(10, activation=\"softmax\"))"
   ]
  },
  {
   "cell_type": "code",
   "execution_count": 11,
   "id": "4318e575",
   "metadata": {},
   "outputs": [
    {
     "name": "stdout",
     "output_type": "stream",
     "text": [
      "Model: \"sequential\"\n",
      "_________________________________________________________________\n",
      " Layer (type)                Output Shape              Param #   \n",
      "=================================================================\n",
      " flatten (Flatten)           (None, 784)               0         \n",
      "                                                                 \n",
      " dense (Dense)               (None, 300)               235500    \n",
      "                                                                 \n",
      " dense_1 (Dense)             (None, 100)               30100     \n",
      "                                                                 \n",
      " dense_2 (Dense)             (None, 20)                2020      \n",
      "                                                                 \n",
      " dense_3 (Dense)             (None, 10)                210       \n",
      "                                                                 \n",
      "=================================================================\n",
      "Total params: 267,830\n",
      "Trainable params: 267,830\n",
      "Non-trainable params: 0\n",
      "_________________________________________________________________\n"
     ]
    }
   ],
   "source": [
    "model.summary()"
   ]
  },
  {
   "cell_type": "code",
   "execution_count": 12,
   "id": "a1f8ed75",
   "metadata": {},
   "outputs": [
    {
     "data": {
      "text/plain": [
       "[<keras.layers.reshaping.flatten.Flatten at 0x154c08179d0>,\n",
       " <keras.layers.core.dense.Dense at 0x154c08548b0>,\n",
       " <keras.layers.core.dense.Dense at 0x154c0855f60>,\n",
       " <keras.layers.core.dense.Dense at 0x154c0856200>,\n",
       " <keras.layers.core.dense.Dense at 0x154c0857310>]"
      ]
     },
     "execution_count": 12,
     "metadata": {},
     "output_type": "execute_result"
    }
   ],
   "source": [
    "model.layers"
   ]
  },
  {
   "cell_type": "code",
   "execution_count": 13,
   "id": "ab424713",
   "metadata": {},
   "outputs": [
    {
     "data": {
      "text/plain": [
       "'dense'"
      ]
     },
     "execution_count": 13,
     "metadata": {},
     "output_type": "execute_result"
    }
   ],
   "source": [
    "hidden1=model.layers[1]\n",
    "hidden1.name"
   ]
  },
  {
   "cell_type": "code",
   "execution_count": 14,
   "id": "0799d097",
   "metadata": {},
   "outputs": [],
   "source": [
    "# model.get_layer('dense_39') is hidden1"
   ]
  },
  {
   "cell_type": "code",
   "execution_count": 15,
   "id": "d8a54037",
   "metadata": {},
   "outputs": [
    {
     "data": {
      "text/plain": [
       "array([[ 0.05247784,  0.0557588 ,  0.0631998 , ...,  0.02823927,\n",
       "         0.04961306,  0.02627957],\n",
       "       [ 0.05285017,  0.01462983, -0.01217801, ...,  0.0343993 ,\n",
       "         0.06787893,  0.00907291],\n",
       "       [ 0.00909517,  0.0089016 , -0.02045201, ...,  0.00066359,\n",
       "         0.00308727,  0.00693488],\n",
       "       ...,\n",
       "       [ 0.04485957, -0.04838768, -0.07260272, ..., -0.02107202,\n",
       "         0.05827498, -0.03161446],\n",
       "       [ 0.05090137, -0.07235077,  0.05532241, ..., -0.01232557,\n",
       "         0.04973203,  0.03266243],\n",
       "       [ 0.06425789, -0.04445722,  0.06098044, ..., -0.03834692,\n",
       "         0.05401912, -0.05940072]], dtype=float32)"
      ]
     },
     "execution_count": 15,
     "metadata": {},
     "output_type": "execute_result"
    }
   ],
   "source": [
    "weights,biases=hidden1.get_weights()\n",
    "weights"
   ]
  },
  {
   "cell_type": "code",
   "execution_count": 16,
   "id": "8a710c91",
   "metadata": {},
   "outputs": [
    {
     "data": {
      "text/plain": [
       "(784, 300)"
      ]
     },
     "execution_count": 16,
     "metadata": {},
     "output_type": "execute_result"
    }
   ],
   "source": [
    "weights.shape"
   ]
  },
  {
   "cell_type": "code",
   "execution_count": 17,
   "id": "3a664962",
   "metadata": {},
   "outputs": [
    {
     "data": {
      "text/plain": [
       "array([0., 0., 0., 0., 0., 0., 0., 0., 0., 0., 0., 0., 0., 0., 0., 0., 0.,\n",
       "       0., 0., 0., 0., 0., 0., 0., 0., 0., 0., 0., 0., 0., 0., 0., 0., 0.,\n",
       "       0., 0., 0., 0., 0., 0., 0., 0., 0., 0., 0., 0., 0., 0., 0., 0., 0.,\n",
       "       0., 0., 0., 0., 0., 0., 0., 0., 0., 0., 0., 0., 0., 0., 0., 0., 0.,\n",
       "       0., 0., 0., 0., 0., 0., 0., 0., 0., 0., 0., 0., 0., 0., 0., 0., 0.,\n",
       "       0., 0., 0., 0., 0., 0., 0., 0., 0., 0., 0., 0., 0., 0., 0., 0., 0.,\n",
       "       0., 0., 0., 0., 0., 0., 0., 0., 0., 0., 0., 0., 0., 0., 0., 0., 0.,\n",
       "       0., 0., 0., 0., 0., 0., 0., 0., 0., 0., 0., 0., 0., 0., 0., 0., 0.,\n",
       "       0., 0., 0., 0., 0., 0., 0., 0., 0., 0., 0., 0., 0., 0., 0., 0., 0.,\n",
       "       0., 0., 0., 0., 0., 0., 0., 0., 0., 0., 0., 0., 0., 0., 0., 0., 0.,\n",
       "       0., 0., 0., 0., 0., 0., 0., 0., 0., 0., 0., 0., 0., 0., 0., 0., 0.,\n",
       "       0., 0., 0., 0., 0., 0., 0., 0., 0., 0., 0., 0., 0., 0., 0., 0., 0.,\n",
       "       0., 0., 0., 0., 0., 0., 0., 0., 0., 0., 0., 0., 0., 0., 0., 0., 0.,\n",
       "       0., 0., 0., 0., 0., 0., 0., 0., 0., 0., 0., 0., 0., 0., 0., 0., 0.,\n",
       "       0., 0., 0., 0., 0., 0., 0., 0., 0., 0., 0., 0., 0., 0., 0., 0., 0.,\n",
       "       0., 0., 0., 0., 0., 0., 0., 0., 0., 0., 0., 0., 0., 0., 0., 0., 0.,\n",
       "       0., 0., 0., 0., 0., 0., 0., 0., 0., 0., 0., 0., 0., 0., 0., 0., 0.,\n",
       "       0., 0., 0., 0., 0., 0., 0., 0., 0., 0., 0.], dtype=float32)"
      ]
     },
     "execution_count": 17,
     "metadata": {},
     "output_type": "execute_result"
    }
   ],
   "source": [
    "biases"
   ]
  },
  {
   "cell_type": "code",
   "execution_count": 18,
   "id": "4afbf5d9",
   "metadata": {},
   "outputs": [
    {
     "data": {
      "text/plain": [
       "(300,)"
      ]
     },
     "execution_count": 18,
     "metadata": {},
     "output_type": "execute_result"
    }
   ],
   "source": [
    "biases.shape"
   ]
  },
  {
   "cell_type": "code",
   "execution_count": 19,
   "id": "78a9ddbe",
   "metadata": {},
   "outputs": [],
   "source": [
    "model.compile(loss='sparse_categorical_crossentropy', optimizer=keras.optimizers.SGD(learning_rate=0.01), metrics=[\"accuracy\"])"
   ]
  },
  {
   "cell_type": "code",
   "execution_count": 20,
   "id": "eca63b9d",
   "metadata": {},
   "outputs": [
    {
     "name": "stdout",
     "output_type": "stream",
     "text": [
      "Epoch 1/30\n",
      "1688/1688 [==============================] - 5s 3ms/step - loss: 0.7530 - accuracy: 0.7489 - val_loss: 0.5374 - val_accuracy: 0.8142\n",
      "Epoch 2/30\n",
      "1688/1688 [==============================] - 5s 3ms/step - loss: 0.4854 - accuracy: 0.8282 - val_loss: 0.4634 - val_accuracy: 0.8327\n",
      "Epoch 3/30\n",
      "1688/1688 [==============================] - 6s 4ms/step - loss: 0.4344 - accuracy: 0.8481 - val_loss: 0.4276 - val_accuracy: 0.8440\n",
      "Epoch 4/30\n",
      "1688/1688 [==============================] - 6s 4ms/step - loss: 0.4032 - accuracy: 0.8585 - val_loss: 0.3939 - val_accuracy: 0.8542\n",
      "Epoch 5/30\n",
      "1688/1688 [==============================] - 6s 3ms/step - loss: 0.3803 - accuracy: 0.8666 - val_loss: 0.3787 - val_accuracy: 0.8628\n",
      "Epoch 6/30\n",
      "1688/1688 [==============================] - 5s 3ms/step - loss: 0.3620 - accuracy: 0.8706 - val_loss: 0.3672 - val_accuracy: 0.8662\n",
      "Epoch 7/30\n",
      "1688/1688 [==============================] - 6s 3ms/step - loss: 0.3476 - accuracy: 0.8757 - val_loss: 0.5454 - val_accuracy: 0.7988\n",
      "Epoch 8/30\n",
      "1688/1688 [==============================] - 6s 4ms/step - loss: 0.3343 - accuracy: 0.8806 - val_loss: 0.3578 - val_accuracy: 0.8755\n",
      "Epoch 9/30\n",
      "1688/1688 [==============================] - 6s 4ms/step - loss: 0.3224 - accuracy: 0.8837 - val_loss: 0.3529 - val_accuracy: 0.8753\n",
      "Epoch 10/30\n",
      "1688/1688 [==============================] - 6s 4ms/step - loss: 0.3120 - accuracy: 0.8878 - val_loss: 0.3424 - val_accuracy: 0.8772\n",
      "Epoch 11/30\n",
      "1688/1688 [==============================] - 6s 3ms/step - loss: 0.3030 - accuracy: 0.8902 - val_loss: 0.3429 - val_accuracy: 0.8765\n",
      "Epoch 12/30\n",
      "1688/1688 [==============================] - 6s 4ms/step - loss: 0.2943 - accuracy: 0.8930 - val_loss: 0.3376 - val_accuracy: 0.8760\n",
      "Epoch 13/30\n",
      "1688/1688 [==============================] - 6s 4ms/step - loss: 0.2868 - accuracy: 0.8971 - val_loss: 0.3345 - val_accuracy: 0.8793\n",
      "Epoch 14/30\n",
      "1688/1688 [==============================] - 5s 3ms/step - loss: 0.2786 - accuracy: 0.8997 - val_loss: 0.3265 - val_accuracy: 0.8823\n",
      "Epoch 15/30\n",
      "1688/1688 [==============================] - 5s 3ms/step - loss: 0.2704 - accuracy: 0.9026 - val_loss: 0.3439 - val_accuracy: 0.8765\n",
      "Epoch 16/30\n",
      "1688/1688 [==============================] - 6s 3ms/step - loss: 0.2648 - accuracy: 0.9041 - val_loss: 0.3583 - val_accuracy: 0.8647\n",
      "Epoch 17/30\n",
      "1688/1688 [==============================] - 6s 3ms/step - loss: 0.2583 - accuracy: 0.9054 - val_loss: 0.3251 - val_accuracy: 0.8833\n",
      "Epoch 18/30\n",
      "1688/1688 [==============================] - 6s 4ms/step - loss: 0.2512 - accuracy: 0.9090 - val_loss: 0.3100 - val_accuracy: 0.8878\n",
      "Epoch 19/30\n",
      "1688/1688 [==============================] - 6s 4ms/step - loss: 0.2459 - accuracy: 0.9108 - val_loss: 0.3298 - val_accuracy: 0.8808\n",
      "Epoch 20/30\n",
      "1688/1688 [==============================] - 6s 3ms/step - loss: 0.2395 - accuracy: 0.9131 - val_loss: 0.3288 - val_accuracy: 0.8857\n",
      "Epoch 21/30\n",
      "1688/1688 [==============================] - 6s 3ms/step - loss: 0.2339 - accuracy: 0.9152 - val_loss: 0.3603 - val_accuracy: 0.8792\n",
      "Epoch 22/30\n",
      "1688/1688 [==============================] - 6s 4ms/step - loss: 0.2293 - accuracy: 0.9164 - val_loss: 0.3083 - val_accuracy: 0.8882\n",
      "Epoch 23/30\n",
      "1688/1688 [==============================] - 6s 4ms/step - loss: 0.2224 - accuracy: 0.9193 - val_loss: 0.3118 - val_accuracy: 0.8903\n",
      "Epoch 24/30\n",
      "1688/1688 [==============================] - 6s 4ms/step - loss: 0.2183 - accuracy: 0.9208 - val_loss: 0.3247 - val_accuracy: 0.8850\n",
      "Epoch 25/30\n",
      "1688/1688 [==============================] - 5s 3ms/step - loss: 0.2142 - accuracy: 0.9212 - val_loss: 0.3120 - val_accuracy: 0.8898\n",
      "Epoch 26/30\n",
      "1688/1688 [==============================] - 6s 4ms/step - loss: 0.2093 - accuracy: 0.9241 - val_loss: 0.3203 - val_accuracy: 0.8852\n",
      "Epoch 27/30\n",
      "1688/1688 [==============================] - 6s 4ms/step - loss: 0.2045 - accuracy: 0.9252 - val_loss: 0.3064 - val_accuracy: 0.8920\n",
      "Epoch 28/30\n",
      "1688/1688 [==============================] - 7s 4ms/step - loss: 0.2004 - accuracy: 0.9274 - val_loss: 0.3467 - val_accuracy: 0.8800\n",
      "Epoch 29/30\n",
      "1688/1688 [==============================] - 6s 3ms/step - loss: 0.1963 - accuracy: 0.9289 - val_loss: 0.3465 - val_accuracy: 0.8792\n",
      "Epoch 30/30\n",
      "1688/1688 [==============================] - 6s 4ms/step - loss: 0.1918 - accuracy: 0.9305 - val_loss: 0.3183 - val_accuracy: 0.8888\n"
     ]
    }
   ],
   "source": [
    "history=model.fit(X_train, y_train,epochs=30, validation_split=0.1,batch_size=32)"
   ]
  },
  {
   "cell_type": "code",
   "execution_count": 21,
   "id": "f7efd42c",
   "metadata": {},
   "outputs": [
    {
     "data": {
      "image/png": "[encoded data removed]",
      "text/plain": [
       "<Figure size 432x288 with 9 Axes>"
      ]
     },
     "metadata": {
      "needs_background": "light"
     },
     "output_type": "display_data"
    }
   ],
   "source": [
    "for i in range(9):\n",
    "\n",
    "    pyplot.subplot(330+1+ i)\n",
    "    pyplot.imshow(X_train[i], cmap=pyplot.get_cmap('gray'))\n",
    "pyplot.show()"
   ]
  },
  {
   "cell_type": "code",
   "execution_count": 48,
   "id": "dcf5c27d",
   "metadata": {},
   "outputs": [
    {
     "name": "stdout",
     "output_type": "stream",
     "text": [
      "313/313 [==============================] - 1s 3ms/step - loss: 0.4692 - accuracy: 0.8404\n"
     ]
    },
    {
     "data": {
      "text/plain": [
       "[0.46923592686653137, 0.840399980545044]"
      ]
     },
     "execution_count": 48,
     "metadata": {},
     "output_type": "execute_result"
    }
   ],
   "source": [
    "model.evaluate(X_test,y_test)"
   ]
  },
  {
   "cell_type": "code",
   "execution_count": 88,
   "id": "ade899ae",
   "metadata": {},
   "outputs": [
    {
     "name": "stdout",
     "output_type": "stream",
     "text": [
      "1/1 [==============================] - 0s 27ms/step\n"
     ]
    }
   ],
   "source": [
    "X_new=X_test[100:115]\n",
    "y_predict=model.predict(X_new)\n",
    "y_predict = np.round(y_predict).astype(int)"
   ]
  },
  {
   "cell_type": "code",
   "execution_count": 89,
   "id": "f3ca30b6",
   "metadata": {},
   "outputs": [
    {
     "data": {
      "text/plain": [
       "array([[0, 0, 0, 1, 0, 0, 0, 0, 0, 0],\n",
       "       [0, 0, 0, 0, 0, 0, 1, 0, 0, 0],\n",
       "       [0, 0, 0, 0, 0, 0, 0, 1, 0, 0],\n",
       "       [0, 0, 0, 0, 0, 0, 1, 0, 0, 0],\n",
       "       [0, 0, 0, 0, 0, 0, 0, 1, 0, 0],\n",
       "       [0, 0, 0, 0, 0, 0, 0, 0, 1, 0],\n",
       "       [0, 0, 0, 0, 0, 1, 0, 0, 0, 0],\n",
       "       [0, 0, 0, 0, 0, 0, 0, 1, 0, 0],\n",
       "       [0, 0, 0, 0, 0, 0, 0, 0, 0, 1],\n",
       "       [0, 0, 0, 0, 1, 0, 0, 0, 0, 0],\n",
       "       [0, 0, 1, 0, 0, 0, 0, 0, 0, 0],\n",
       "       [0, 0, 0, 0, 0, 1, 0, 0, 0, 0],\n",
       "       [0, 0, 0, 0, 0, 0, 0, 1, 0, 0],\n",
       "       [0, 0, 0, 0, 0, 0, 1, 0, 0, 0],\n",
       "       [0, 0, 0, 0, 0, 1, 0, 0, 0, 0]])"
      ]
     },
     "execution_count": 89,
     "metadata": {},
     "output_type": "execute_result"
    }
   ],
   "source": [
    "y_predict"
   ]
  },
  {
   "cell_type": "code",
   "execution_count": 90,
   "id": "8a52606c",
   "metadata": {},
   "outputs": [
    {
     "data": {
      "text/plain": [
       "(15, 10)"
      ]
     },
     "execution_count": 90,
     "metadata": {},
     "output_type": "execute_result"
    }
   ],
   "source": [
    "y_predict.shape"
   ]
  },
  {
   "cell_type": "code",
   "execution_count": 91,
   "id": "11a383a3",
   "metadata": {},
   "outputs": [],
   "source": [
    "class_names=[\"Trzewik\",\"Koszulka\", \"Spodnie\", \"Sweter\", \"Sukienka\", \"Płaszcz\", \"Sandał\",\"Koszula\",\"Tenisówka\",\"Torebka\"]"
   ]
  },
  {
   "cell_type": "code",
   "execution_count": 92,
   "id": "f4327f44",
   "metadata": {},
   "outputs": [
    {
     "name": "stdout",
     "output_type": "stream",
     "text": [
      "Sweter\n",
      "Sandał\n",
      "Koszula\n",
      "Sandał\n",
      "Koszula\n",
      "Tenisówka\n",
      "Płaszcz\n",
      "Koszula\n",
      "Torebka\n",
      "Sukienka\n",
      "Spodnie\n",
      "Płaszcz\n",
      "Koszula\n",
      "Sandał\n",
      "Płaszcz\n"
     ]
    }
   ],
   "source": [
    "pred_classes=[]\n",
    "for i in y_predict:\n",
    "    for j in range(len(i)):\n",
    "        if(i[j])==1:\n",
    "            pred_classes.append(j)\n",
    "            print(class_names[j])"
   ]
  },
  {
   "cell_type": "code",
   "execution_count": null,
   "id": "c1b3c5f4",
   "metadata": {},
   "outputs": [],
   "source": []
  }
 ],
 "metadata": {
  "kernelspec": {
   "display_name": "Python (ml)",
   "language": "python",
   "name": "ml"
  },
  "language_info": {
   "codemirror_mode": {
    "name": "ipython",
    "version": 3
   },
   "file_extension": ".py",
   "mimetype": "text/x-python",
   "name": "python",
   "nbconvert_exporter": "python",
   "pygments_lexer": "ipython3",
   "version": "3.10.4"
  }
 },
 "nbformat": 4,
 "nbformat_minor": 5
}

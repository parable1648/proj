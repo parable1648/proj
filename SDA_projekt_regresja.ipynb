{
 "cells": [
  {
   "cell_type": "code",
   "execution_count": 178,
   "id": "cd2b55af",
   "metadata": {},
   "outputs": [],
   "source": [
    "import numpy as np\n",
    "import matplotlib.pyplot as plt\n",
    "import pandas as pd\n",
    "import numpy as np  \n",
    "import matplotlib.pyplot as plt \n",
    "import seaborn as sns  "
   ]
  },
  {
   "cell_type": "code",
   "execution_count": 179,
   "id": "0956456c",
   "metadata": {},
   "outputs": [],
   "source": [
    "data=pd.read_csv(\"C:/Users\\dorot\\OneDrive\\Pulpit\\SDA\\REGRESJA\\weatherhistory.csv\",parse_dates=True, index_col='Formatted Date')"
   ]
  },
  {
   "cell_type": "code",
   "execution_count": 180,
   "id": "dcf8466d",
   "metadata": {},
   "outputs": [
    {
     "data": {
      "text/plain": [
       "Index(['Summary', 'Precip Type', 'Temperature (C)', 'Apparent Temperature (C)',\n",
       "       'Humidity', 'Wind Speed (km/h)', 'Wind Bearing (degrees)',\n",
       "       'Visibility (km)', 'Loud Cover', 'Pressure (millibars)',\n",
       "       'Daily Summary'],\n",
       "      dtype='object')"
      ]
     },
     "execution_count": 180,
     "metadata": {},
     "output_type": "execute_result"
    }
   ],
   "source": [
    "data.columns"
   ]
  },
  {
   "cell_type": "code",
   "execution_count": 181,
   "id": "6c79ce29",
   "metadata": {},
   "outputs": [
    {
     "data": {
      "text/plain": [
       "(96453, 11)"
      ]
     },
     "execution_count": 181,
     "metadata": {},
     "output_type": "execute_result"
    }
   ],
   "source": [
    "data.shape"
   ]
  },
  {
   "cell_type": "code",
   "execution_count": 182,
   "id": "c6cf1270",
   "metadata": {},
   "outputs": [],
   "source": [
    "# for i in data.columns:\n",
    "#     print(f\"{data} have {data[i].nunique()} unique values\")"
   ]
  },
  {
   "cell_type": "code",
   "execution_count": 183,
   "id": "387dc0cc",
   "metadata": {},
   "outputs": [],
   "source": [
    "# import datetime\n",
    "# date1 = pd.Series(pd.date_range('2020-7-1 12:00:00', periods = 5))\n",
    "# df = pd.DataFrame(dict(date_given = date1))\n",
    "  \n",
    "# df['month_of_date'] = df['date_given'].dt.month\n",
    "# df"
   ]
  },
  {
   "cell_type": "code",
   "execution_count": 184,
   "id": "3005ab61",
   "metadata": {},
   "outputs": [
    {
     "data": {
      "text/html": [
       "<div>\n",
       "<style scoped>\n",
       "    .dataframe tbody tr th:only-of-type {\n",
       "        vertical-align: middle;\n",
       "    }\n",
       "\n",
       "    .dataframe tbody tr th {\n",
       "        vertical-align: top;\n",
       "    }\n",
       "\n",
       "    .dataframe thead th {\n",
       "        text-align: right;\n",
       "    }\n",
       "</style>\n",
       "<table border=\"1\" class=\"dataframe\">\n",
       "  <thead>\n",
       "    <tr style=\"text-align: right;\">\n",
       "      <th></th>\n",
       "      <th>Temperature (C)</th>\n",
       "      <th>Apparent Temperature (C)</th>\n",
       "      <th>Humidity</th>\n",
       "      <th>Wind Speed (km/h)</th>\n",
       "      <th>Wind Bearing (degrees)</th>\n",
       "      <th>Visibility (km)</th>\n",
       "      <th>Loud Cover</th>\n",
       "      <th>Pressure (millibars)</th>\n",
       "    </tr>\n",
       "  </thead>\n",
       "  <tbody>\n",
       "    <tr>\n",
       "      <th>count</th>\n",
       "      <td>96453.000000</td>\n",
       "      <td>96453.000000</td>\n",
       "      <td>96453.000000</td>\n",
       "      <td>96453.000000</td>\n",
       "      <td>96453.000000</td>\n",
       "      <td>96453.000000</td>\n",
       "      <td>96453.0</td>\n",
       "      <td>96453.000000</td>\n",
       "    </tr>\n",
       "    <tr>\n",
       "      <th>mean</th>\n",
       "      <td>11.932678</td>\n",
       "      <td>10.855029</td>\n",
       "      <td>0.734899</td>\n",
       "      <td>10.810640</td>\n",
       "      <td>187.509232</td>\n",
       "      <td>10.347325</td>\n",
       "      <td>0.0</td>\n",
       "      <td>1003.235956</td>\n",
       "    </tr>\n",
       "    <tr>\n",
       "      <th>std</th>\n",
       "      <td>9.551546</td>\n",
       "      <td>10.696847</td>\n",
       "      <td>0.195473</td>\n",
       "      <td>6.913571</td>\n",
       "      <td>107.383428</td>\n",
       "      <td>4.192123</td>\n",
       "      <td>0.0</td>\n",
       "      <td>116.969906</td>\n",
       "    </tr>\n",
       "    <tr>\n",
       "      <th>min</th>\n",
       "      <td>-21.822222</td>\n",
       "      <td>-27.716667</td>\n",
       "      <td>0.000000</td>\n",
       "      <td>0.000000</td>\n",
       "      <td>0.000000</td>\n",
       "      <td>0.000000</td>\n",
       "      <td>0.0</td>\n",
       "      <td>0.000000</td>\n",
       "    </tr>\n",
       "    <tr>\n",
       "      <th>25%</th>\n",
       "      <td>4.688889</td>\n",
       "      <td>2.311111</td>\n",
       "      <td>0.600000</td>\n",
       "      <td>5.828200</td>\n",
       "      <td>116.000000</td>\n",
       "      <td>8.339800</td>\n",
       "      <td>0.0</td>\n",
       "      <td>1011.900000</td>\n",
       "    </tr>\n",
       "    <tr>\n",
       "      <th>50%</th>\n",
       "      <td>12.000000</td>\n",
       "      <td>12.000000</td>\n",
       "      <td>0.780000</td>\n",
       "      <td>9.965900</td>\n",
       "      <td>180.000000</td>\n",
       "      <td>10.046400</td>\n",
       "      <td>0.0</td>\n",
       "      <td>1016.450000</td>\n",
       "    </tr>\n",
       "    <tr>\n",
       "      <th>75%</th>\n",
       "      <td>18.838889</td>\n",
       "      <td>18.838889</td>\n",
       "      <td>0.890000</td>\n",
       "      <td>14.135800</td>\n",
       "      <td>290.000000</td>\n",
       "      <td>14.812000</td>\n",
       "      <td>0.0</td>\n",
       "      <td>1021.090000</td>\n",
       "    </tr>\n",
       "    <tr>\n",
       "      <th>max</th>\n",
       "      <td>39.905556</td>\n",
       "      <td>39.344444</td>\n",
       "      <td>1.000000</td>\n",
       "      <td>63.852600</td>\n",
       "      <td>359.000000</td>\n",
       "      <td>16.100000</td>\n",
       "      <td>0.0</td>\n",
       "      <td>1046.380000</td>\n",
       "    </tr>\n",
       "  </tbody>\n",
       "</table>\n",
       "</div>"
      ],
      "text/plain": [
       "       Temperature (C)  Apparent Temperature (C)      Humidity  \\\n",
       "count     96453.000000              96453.000000  96453.000000   \n",
       "mean         11.932678                 10.855029      0.734899   \n",
       "std           9.551546                 10.696847      0.195473   \n",
       "min         -21.822222                -27.716667      0.000000   \n",
       "25%           4.688889                  2.311111      0.600000   \n",
       "50%          12.000000                 12.000000      0.780000   \n",
       "75%          18.838889                 18.838889      0.890000   \n",
       "max          39.905556                 39.344444      1.000000   \n",
       "\n",
       "       Wind Speed (km/h)  Wind Bearing (degrees)  Visibility (km)  Loud Cover  \\\n",
       "count       96453.000000            96453.000000     96453.000000     96453.0   \n",
       "mean           10.810640              187.509232        10.347325         0.0   \n",
       "std             6.913571              107.383428         4.192123         0.0   \n",
       "min             0.000000                0.000000         0.000000         0.0   \n",
       "25%             5.828200              116.000000         8.339800         0.0   \n",
       "50%             9.965900              180.000000        10.046400         0.0   \n",
       "75%            14.135800              290.000000        14.812000         0.0   \n",
       "max            63.852600              359.000000        16.100000         0.0   \n",
       "\n",
       "       Pressure (millibars)  \n",
       "count          96453.000000  \n",
       "mean            1003.235956  \n",
       "std              116.969906  \n",
       "min                0.000000  \n",
       "25%             1011.900000  \n",
       "50%             1016.450000  \n",
       "75%             1021.090000  \n",
       "max             1046.380000  "
      ]
     },
     "execution_count": 184,
     "metadata": {},
     "output_type": "execute_result"
    }
   ],
   "source": [
    "data.describe()"
   ]
  },
  {
   "cell_type": "markdown",
   "id": "27a7915a",
   "metadata": {},
   "source": [
    "zmienną Loud Cover eliminujemy, ponieważ dla każdej obserwacji przyjmuje wartość zero, jej wariancja wyniesie również zero, nie wniesie nic do modelu."
   ]
  },
  {
   "cell_type": "code",
   "execution_count": 186,
   "id": "01a4f71c",
   "metadata": {},
   "outputs": [],
   "source": [
    "data_df=data.drop('Loud Cover', axis=1)"
   ]
  },
  {
   "cell_type": "code",
   "execution_count": 187,
   "id": "9f7477fc",
   "metadata": {},
   "outputs": [
    {
     "data": {
      "text/html": [
       "<div>\n",
       "<style scoped>\n",
       "    .dataframe tbody tr th:only-of-type {\n",
       "        vertical-align: middle;\n",
       "    }\n",
       "\n",
       "    .dataframe tbody tr th {\n",
       "        vertical-align: top;\n",
       "    }\n",
       "\n",
       "    .dataframe thead th {\n",
       "        text-align: right;\n",
       "    }\n",
       "</style>\n",
       "<table border=\"1\" class=\"dataframe\">\n",
       "  <thead>\n",
       "    <tr style=\"text-align: right;\">\n",
       "      <th></th>\n",
       "      <th>Summary</th>\n",
       "      <th>Precip Type</th>\n",
       "      <th>Temperature (C)</th>\n",
       "      <th>Apparent Temperature (C)</th>\n",
       "      <th>Humidity</th>\n",
       "      <th>Wind Speed (km/h)</th>\n",
       "      <th>Wind Bearing (degrees)</th>\n",
       "      <th>Visibility (km)</th>\n",
       "      <th>Pressure (millibars)</th>\n",
       "      <th>Daily Summary</th>\n",
       "    </tr>\n",
       "    <tr>\n",
       "      <th>Formatted Date</th>\n",
       "      <th></th>\n",
       "      <th></th>\n",
       "      <th></th>\n",
       "      <th></th>\n",
       "      <th></th>\n",
       "      <th></th>\n",
       "      <th></th>\n",
       "      <th></th>\n",
       "      <th></th>\n",
       "      <th></th>\n",
       "    </tr>\n",
       "  </thead>\n",
       "  <tbody>\n",
       "    <tr>\n",
       "      <th>2006-04-01 00:00:00+02:00</th>\n",
       "      <td>Partly Cloudy</td>\n",
       "      <td>rain</td>\n",
       "      <td>9.472222</td>\n",
       "      <td>7.388889</td>\n",
       "      <td>0.89</td>\n",
       "      <td>14.1197</td>\n",
       "      <td>251.0</td>\n",
       "      <td>15.8263</td>\n",
       "      <td>1015.13</td>\n",
       "      <td>Partly cloudy throughout the day.</td>\n",
       "    </tr>\n",
       "    <tr>\n",
       "      <th>2006-04-01 01:00:00+02:00</th>\n",
       "      <td>Partly Cloudy</td>\n",
       "      <td>rain</td>\n",
       "      <td>9.355556</td>\n",
       "      <td>7.227778</td>\n",
       "      <td>0.86</td>\n",
       "      <td>14.2646</td>\n",
       "      <td>259.0</td>\n",
       "      <td>15.8263</td>\n",
       "      <td>1015.63</td>\n",
       "      <td>Partly cloudy throughout the day.</td>\n",
       "    </tr>\n",
       "    <tr>\n",
       "      <th>2006-04-01 02:00:00+02:00</th>\n",
       "      <td>Mostly Cloudy</td>\n",
       "      <td>rain</td>\n",
       "      <td>9.377778</td>\n",
       "      <td>9.377778</td>\n",
       "      <td>0.89</td>\n",
       "      <td>3.9284</td>\n",
       "      <td>204.0</td>\n",
       "      <td>14.9569</td>\n",
       "      <td>1015.94</td>\n",
       "      <td>Partly cloudy throughout the day.</td>\n",
       "    </tr>\n",
       "    <tr>\n",
       "      <th>2006-04-01 03:00:00+02:00</th>\n",
       "      <td>Partly Cloudy</td>\n",
       "      <td>rain</td>\n",
       "      <td>8.288889</td>\n",
       "      <td>5.944444</td>\n",
       "      <td>0.83</td>\n",
       "      <td>14.1036</td>\n",
       "      <td>269.0</td>\n",
       "      <td>15.8263</td>\n",
       "      <td>1016.41</td>\n",
       "      <td>Partly cloudy throughout the day.</td>\n",
       "    </tr>\n",
       "    <tr>\n",
       "      <th>2006-04-01 04:00:00+02:00</th>\n",
       "      <td>Mostly Cloudy</td>\n",
       "      <td>rain</td>\n",
       "      <td>8.755556</td>\n",
       "      <td>6.977778</td>\n",
       "      <td>0.83</td>\n",
       "      <td>11.0446</td>\n",
       "      <td>259.0</td>\n",
       "      <td>15.8263</td>\n",
       "      <td>1016.51</td>\n",
       "      <td>Partly cloudy throughout the day.</td>\n",
       "    </tr>\n",
       "  </tbody>\n",
       "</table>\n",
       "</div>"
      ],
      "text/plain": [
       "                                 Summary Precip Type  Temperature (C)  \\\n",
       "Formatted Date                                                          \n",
       "2006-04-01 00:00:00+02:00  Partly Cloudy        rain         9.472222   \n",
       "2006-04-01 01:00:00+02:00  Partly Cloudy        rain         9.355556   \n",
       "2006-04-01 02:00:00+02:00  Mostly Cloudy        rain         9.377778   \n",
       "2006-04-01 03:00:00+02:00  Partly Cloudy        rain         8.288889   \n",
       "2006-04-01 04:00:00+02:00  Mostly Cloudy        rain         8.755556   \n",
       "\n",
       "                           Apparent Temperature (C)  Humidity  \\\n",
       "Formatted Date                                                  \n",
       "2006-04-01 00:00:00+02:00                  7.388889      0.89   \n",
       "2006-04-01 01:00:00+02:00                  7.227778      0.86   \n",
       "2006-04-01 02:00:00+02:00                  9.377778      0.89   \n",
       "2006-04-01 03:00:00+02:00                  5.944444      0.83   \n",
       "2006-04-01 04:00:00+02:00                  6.977778      0.83   \n",
       "\n",
       "                           Wind Speed (km/h)  Wind Bearing (degrees)  \\\n",
       "Formatted Date                                                         \n",
       "2006-04-01 00:00:00+02:00            14.1197                   251.0   \n",
       "2006-04-01 01:00:00+02:00            14.2646                   259.0   \n",
       "2006-04-01 02:00:00+02:00             3.9284                   204.0   \n",
       "2006-04-01 03:00:00+02:00            14.1036                   269.0   \n",
       "2006-04-01 04:00:00+02:00            11.0446                   259.0   \n",
       "\n",
       "                           Visibility (km)  Pressure (millibars)  \\\n",
       "Formatted Date                                                     \n",
       "2006-04-01 00:00:00+02:00          15.8263               1015.13   \n",
       "2006-04-01 01:00:00+02:00          15.8263               1015.63   \n",
       "2006-04-01 02:00:00+02:00          14.9569               1015.94   \n",
       "2006-04-01 03:00:00+02:00          15.8263               1016.41   \n",
       "2006-04-01 04:00:00+02:00          15.8263               1016.51   \n",
       "\n",
       "                                               Daily Summary  \n",
       "Formatted Date                                                \n",
       "2006-04-01 00:00:00+02:00  Partly cloudy throughout the day.  \n",
       "2006-04-01 01:00:00+02:00  Partly cloudy throughout the day.  \n",
       "2006-04-01 02:00:00+02:00  Partly cloudy throughout the day.  \n",
       "2006-04-01 03:00:00+02:00  Partly cloudy throughout the day.  \n",
       "2006-04-01 04:00:00+02:00  Partly cloudy throughout the day.  "
      ]
     },
     "execution_count": 187,
     "metadata": {},
     "output_type": "execute_result"
    }
   ],
   "source": [
    "data_df.head()"
   ]
  },
  {
   "cell_type": "code",
   "execution_count": 1,
   "id": "919e1d0f",
   "metadata": {},
   "outputs": [
    {
     "ename": "NameError",
     "evalue": "name 'data_df' is not defined",
     "output_type": "error",
     "traceback": [
      "\u001b[1;31m---------------------------------------------------------------------------\u001b[0m",
      "\u001b[1;31mNameError\u001b[0m                                 Traceback (most recent call last)",
      "Input \u001b[1;32mIn [1]\u001b[0m, in \u001b[0;36m<cell line: 1>\u001b[1;34m()\u001b[0m\n\u001b[1;32m----> 1\u001b[0m \u001b[43mdata_df\u001b[49m\u001b[38;5;241m.\u001b[39misnull()\u001b[38;5;241m.\u001b[39msum(axis \u001b[38;5;241m=\u001b[39m \u001b[38;5;241m0\u001b[39m)\n",
      "\u001b[1;31mNameError\u001b[0m: name 'data_df' is not defined"
     ]
    }
   ],
   "source": [
    "data_df.isnull().sum(axis = 0)"
   ]
  },
  {
   "cell_type": "code",
   "execution_count": 189,
   "id": "a81d1480",
   "metadata": {},
   "outputs": [],
   "source": [
    "result = data_df.dtypes"
   ]
  },
  {
   "cell_type": "code",
   "execution_count": 68,
   "id": "378ec2b8",
   "metadata": {},
   "outputs": [
    {
     "data": {
      "text/plain": [
       "Summary                      object\n",
       "Precip Type                  object\n",
       "Temperature (C)             float64\n",
       "Apparent Temperature (C)    float64\n",
       "Humidity                    float64\n",
       "Wind Speed (km/h)           float64\n",
       "Wind Bearing (degrees)      float64\n",
       "Visibility (km)             float64\n",
       "Pressure (millibars)        float64\n",
       "Daily Summary                object\n",
       "dtype: object"
      ]
     },
     "execution_count": 68,
     "metadata": {},
     "output_type": "execute_result"
    }
   ],
   "source": [
    "result"
   ]
  },
  {
   "cell_type": "code",
   "execution_count": 190,
   "id": "b92fd2ea",
   "metadata": {},
   "outputs": [
    {
     "name": "stdout",
     "output_type": "stream",
     "text": [
      "<class 'pandas.core.frame.DataFrame'>\n",
      "Index: 96453 entries, 2006-04-01 00:00:00+02:00 to 2016-09-09 23:00:00+02:00\n",
      "Data columns (total 10 columns):\n",
      " #   Column                    Non-Null Count  Dtype  \n",
      "---  ------                    --------------  -----  \n",
      " 0   Summary                   96453 non-null  object \n",
      " 1   Precip Type               95936 non-null  object \n",
      " 2   Temperature (C)           96453 non-null  float64\n",
      " 3   Apparent Temperature (C)  96453 non-null  float64\n",
      " 4   Humidity                  96453 non-null  float64\n",
      " 5   Wind Speed (km/h)         96453 non-null  float64\n",
      " 6   Wind Bearing (degrees)    96453 non-null  float64\n",
      " 7   Visibility (km)           96453 non-null  float64\n",
      " 8   Pressure (millibars)      96453 non-null  float64\n",
      " 9   Daily Summary             96453 non-null  object \n",
      "dtypes: float64(7), object(3)\n",
      "memory usage: 8.1+ MB\n"
     ]
    }
   ],
   "source": [
    "data_df.info()"
   ]
  },
  {
   "cell_type": "code",
   "execution_count": 191,
   "id": "dc7f14ca",
   "metadata": {},
   "outputs": [
    {
     "data": {
      "text/plain": [
       "rain    85224\n",
       "snow    10712\n",
       "Name: Precip Type, dtype: int64"
      ]
     },
     "execution_count": 191,
     "metadata": {},
     "output_type": "execute_result"
    }
   ],
   "source": [
    "data_df['Precip Type'].value_counts()"
   ]
  },
  {
   "cell_type": "code",
   "execution_count": 71,
   "id": "d38fe18c",
   "metadata": {},
   "outputs": [
    {
     "data": {
      "text/plain": [
       "Partly Cloudy                          31733\n",
       "Mostly Cloudy                          28094\n",
       "Overcast                               16597\n",
       "Clear                                  10890\n",
       "Foggy                                   7148\n",
       "Breezy and Overcast                      528\n",
       "Breezy and Mostly Cloudy                 516\n",
       "Breezy and Partly Cloudy                 386\n",
       "Dry and Partly Cloudy                     86\n",
       "Windy and Partly Cloudy                   67\n",
       "Light Rain                                63\n",
       "Breezy                                    54\n",
       "Windy and Overcast                        45\n",
       "Humid and Mostly Cloudy                   40\n",
       "Drizzle                                   39\n",
       "Breezy and Foggy                          35\n",
       "Windy and Mostly Cloudy                   35\n",
       "Dry                                       34\n",
       "Humid and Partly Cloudy                   17\n",
       "Dry and Mostly Cloudy                     14\n",
       "Rain                                      10\n",
       "Windy                                      8\n",
       "Humid and Overcast                         7\n",
       "Windy and Foggy                            4\n",
       "Windy and Dry                              1\n",
       "Dangerously Windy and Partly Cloudy        1\n",
       "Breezy and Dry                             1\n",
       "Name: Summary, dtype: int64"
      ]
     },
     "execution_count": 71,
     "metadata": {},
     "output_type": "execute_result"
    }
   ],
   "source": [
    "data['Summary'].value_counts()"
   ]
  },
  {
   "cell_type": "code",
   "execution_count": 192,
   "id": "a95878b8",
   "metadata": {},
   "outputs": [
    {
     "data": {
      "text/plain": [
       "Mostly cloudy throughout the day.                                                                       20085\n",
       "Partly cloudy throughout the day.                                                                        9981\n",
       "Partly cloudy until night.                                                                               6169\n",
       "Partly cloudy starting in the morning.                                                                   5184\n",
       "Foggy in the morning.                                                                                    4201\n",
       "                                                                                                        ...  \n",
       "Breezy starting overnight continuing until morning and foggy overnight.                                    24\n",
       "Mostly cloudy throughout the day and breezy starting overnight continuing until afternoon.                 24\n",
       "Partly cloudy starting in the morning and breezy starting in the afternoon continuing until evening.       24\n",
       "Rain until afternoon.                                                                                      24\n",
       "Foggy starting overnight continuing until morning and breezy in the afternoon.                             23\n",
       "Name: Daily Summary, Length: 214, dtype: int64"
      ]
     },
     "execution_count": 192,
     "metadata": {},
     "output_type": "execute_result"
    }
   ],
   "source": [
    "data_df['Daily Summary'].value_counts()"
   ]
  },
  {
   "cell_type": "code",
   "execution_count": 193,
   "id": "f661a00d",
   "metadata": {},
   "outputs": [],
   "source": [
    "data_df.dropna(axis=0, inplace=True)"
   ]
  },
  {
   "cell_type": "code",
   "execution_count": 194,
   "id": "03bce613",
   "metadata": {},
   "outputs": [
    {
     "data": {
      "text/plain": [
       "(95936, 10)"
      ]
     },
     "execution_count": 194,
     "metadata": {},
     "output_type": "execute_result"
    }
   ],
   "source": [
    "data_df.shape"
   ]
  },
  {
   "cell_type": "code",
   "execution_count": 195,
   "id": "0c410229",
   "metadata": {},
   "outputs": [
    {
     "data": {
      "text/html": [
       "<div>\n",
       "<style scoped>\n",
       "    .dataframe tbody tr th:only-of-type {\n",
       "        vertical-align: middle;\n",
       "    }\n",
       "\n",
       "    .dataframe tbody tr th {\n",
       "        vertical-align: top;\n",
       "    }\n",
       "\n",
       "    .dataframe thead th {\n",
       "        text-align: right;\n",
       "    }\n",
       "</style>\n",
       "<table border=\"1\" class=\"dataframe\">\n",
       "  <thead>\n",
       "    <tr style=\"text-align: right;\">\n",
       "      <th></th>\n",
       "      <th>Temperature (C)</th>\n",
       "      <th>Apparent Temperature (C)</th>\n",
       "      <th>Humidity</th>\n",
       "      <th>Wind Speed (km/h)</th>\n",
       "      <th>Wind Bearing (degrees)</th>\n",
       "      <th>Visibility (km)</th>\n",
       "      <th>Pressure (millibars)</th>\n",
       "    </tr>\n",
       "  </thead>\n",
       "  <tbody>\n",
       "    <tr>\n",
       "      <th>count</th>\n",
       "      <td>95936.000000</td>\n",
       "      <td>95936.000000</td>\n",
       "      <td>95936.000000</td>\n",
       "      <td>95936.000000</td>\n",
       "      <td>95936.000000</td>\n",
       "      <td>95936.000000</td>\n",
       "      <td>95936.000000</td>\n",
       "    </tr>\n",
       "    <tr>\n",
       "      <th>mean</th>\n",
       "      <td>11.940976</td>\n",
       "      <td>10.862531</td>\n",
       "      <td>0.734841</td>\n",
       "      <td>10.804936</td>\n",
       "      <td>187.518773</td>\n",
       "      <td>10.362402</td>\n",
       "      <td>1003.150038</td>\n",
       "    </tr>\n",
       "    <tr>\n",
       "      <th>std</th>\n",
       "      <td>9.570671</td>\n",
       "      <td>10.717812</td>\n",
       "      <td>0.195724</td>\n",
       "      <td>6.920727</td>\n",
       "      <td>107.385351</td>\n",
       "      <td>4.173780</td>\n",
       "      <td>117.276976</td>\n",
       "    </tr>\n",
       "    <tr>\n",
       "      <th>min</th>\n",
       "      <td>-21.822222</td>\n",
       "      <td>-27.716667</td>\n",
       "      <td>0.000000</td>\n",
       "      <td>0.000000</td>\n",
       "      <td>0.000000</td>\n",
       "      <td>0.000000</td>\n",
       "      <td>0.000000</td>\n",
       "    </tr>\n",
       "    <tr>\n",
       "      <th>25%</th>\n",
       "      <td>4.604167</td>\n",
       "      <td>2.276389</td>\n",
       "      <td>0.600000</td>\n",
       "      <td>5.796000</td>\n",
       "      <td>116.000000</td>\n",
       "      <td>8.372000</td>\n",
       "      <td>1011.890000</td>\n",
       "    </tr>\n",
       "    <tr>\n",
       "      <th>50%</th>\n",
       "      <td>12.033333</td>\n",
       "      <td>12.033333</td>\n",
       "      <td>0.780000</td>\n",
       "      <td>9.933700</td>\n",
       "      <td>180.000000</td>\n",
       "      <td>10.046400</td>\n",
       "      <td>1016.420000</td>\n",
       "    </tr>\n",
       "    <tr>\n",
       "      <th>75%</th>\n",
       "      <td>18.844444</td>\n",
       "      <td>18.844444</td>\n",
       "      <td>0.890000</td>\n",
       "      <td>14.135800</td>\n",
       "      <td>290.000000</td>\n",
       "      <td>14.812000</td>\n",
       "      <td>1021.050000</td>\n",
       "    </tr>\n",
       "    <tr>\n",
       "      <th>max</th>\n",
       "      <td>39.905556</td>\n",
       "      <td>39.344444</td>\n",
       "      <td>1.000000</td>\n",
       "      <td>63.852600</td>\n",
       "      <td>359.000000</td>\n",
       "      <td>16.100000</td>\n",
       "      <td>1046.380000</td>\n",
       "    </tr>\n",
       "  </tbody>\n",
       "</table>\n",
       "</div>"
      ],
      "text/plain": [
       "       Temperature (C)  Apparent Temperature (C)      Humidity  \\\n",
       "count     95936.000000              95936.000000  95936.000000   \n",
       "mean         11.940976                 10.862531      0.734841   \n",
       "std           9.570671                 10.717812      0.195724   \n",
       "min         -21.822222                -27.716667      0.000000   \n",
       "25%           4.604167                  2.276389      0.600000   \n",
       "50%          12.033333                 12.033333      0.780000   \n",
       "75%          18.844444                 18.844444      0.890000   \n",
       "max          39.905556                 39.344444      1.000000   \n",
       "\n",
       "       Wind Speed (km/h)  Wind Bearing (degrees)  Visibility (km)  \\\n",
       "count       95936.000000            95936.000000     95936.000000   \n",
       "mean           10.804936              187.518773        10.362402   \n",
       "std             6.920727              107.385351         4.173780   \n",
       "min             0.000000                0.000000         0.000000   \n",
       "25%             5.796000              116.000000         8.372000   \n",
       "50%             9.933700              180.000000        10.046400   \n",
       "75%            14.135800              290.000000        14.812000   \n",
       "max            63.852600              359.000000        16.100000   \n",
       "\n",
       "       Pressure (millibars)  \n",
       "count          95936.000000  \n",
       "mean            1003.150038  \n",
       "std              117.276976  \n",
       "min                0.000000  \n",
       "25%             1011.890000  \n",
       "50%             1016.420000  \n",
       "75%             1021.050000  \n",
       "max             1046.380000  "
      ]
     },
     "execution_count": 195,
     "metadata": {},
     "output_type": "execute_result"
    }
   ],
   "source": [
    "data_df.describe()"
   ]
  },
  {
   "cell_type": "markdown",
   "id": "a8001ff4",
   "metadata": {},
   "source": [
    "Apparent Temperature (C)-zmienna endogeniczna, model ma na celu wyjaśnienie, jak pozostałe czynniki wpływają na temperaturę odczuwalną"
   ]
  },
  {
   "cell_type": "code",
   "execution_count": 196,
   "id": "0364aa5c",
   "metadata": {},
   "outputs": [
    {
     "data": {
      "text/plain": [
       "Index(['Summary', 'Precip Type', 'Temperature (C)', 'Apparent Temperature (C)',\n",
       "       'Humidity', 'Wind Speed (km/h)', 'Wind Bearing (degrees)',\n",
       "       'Visibility (km)', 'Pressure (millibars)', 'Daily Summary'],\n",
       "      dtype='object')"
      ]
     },
     "execution_count": 196,
     "metadata": {},
     "output_type": "execute_result"
    }
   ],
   "source": [
    "data_df.columns"
   ]
  },
  {
   "cell_type": "code",
   "execution_count": 197,
   "id": "63385aa0",
   "metadata": {
    "scrolled": true
   },
   "outputs": [],
   "source": [
    "data_df.drop(['Daily Summary', 'Summary'], axis=1,inplace=True)"
   ]
  },
  {
   "cell_type": "code",
   "execution_count": 198,
   "id": "b8c14522",
   "metadata": {},
   "outputs": [
    {
     "data": {
      "text/plain": [
       "Index(['Precip Type', 'Temperature (C)', 'Apparent Temperature (C)',\n",
       "       'Humidity', 'Wind Speed (km/h)', 'Wind Bearing (degrees)',\n",
       "       'Visibility (km)', 'Pressure (millibars)'],\n",
       "      dtype='object')"
      ]
     },
     "execution_count": 198,
     "metadata": {},
     "output_type": "execute_result"
    }
   ],
   "source": [
    "data_df.columns"
   ]
  },
  {
   "cell_type": "code",
   "execution_count": 199,
   "id": "bf84bffa",
   "metadata": {},
   "outputs": [],
   "source": [
    "data_encoded_df = pd.get_dummies(\n",
    "    data=data_df,\n",
    "    drop_first=True,)\n",
    "    "
   ]
  },
  {
   "cell_type": "code",
   "execution_count": 200,
   "id": "3bbf118f",
   "metadata": {},
   "outputs": [
    {
     "data": {
      "text/html": [
       "<div>\n",
       "<style scoped>\n",
       "    .dataframe tbody tr th:only-of-type {\n",
       "        vertical-align: middle;\n",
       "    }\n",
       "\n",
       "    .dataframe tbody tr th {\n",
       "        vertical-align: top;\n",
       "    }\n",
       "\n",
       "    .dataframe thead th {\n",
       "        text-align: right;\n",
       "    }\n",
       "</style>\n",
       "<table border=\"1\" class=\"dataframe\">\n",
       "  <thead>\n",
       "    <tr style=\"text-align: right;\">\n",
       "      <th></th>\n",
       "      <th>Temperature (C)</th>\n",
       "      <th>Apparent Temperature (C)</th>\n",
       "      <th>Humidity</th>\n",
       "      <th>Wind Speed (km/h)</th>\n",
       "      <th>Wind Bearing (degrees)</th>\n",
       "      <th>Visibility (km)</th>\n",
       "      <th>Pressure (millibars)</th>\n",
       "      <th>Precip Type_snow</th>\n",
       "    </tr>\n",
       "    <tr>\n",
       "      <th>Formatted Date</th>\n",
       "      <th></th>\n",
       "      <th></th>\n",
       "      <th></th>\n",
       "      <th></th>\n",
       "      <th></th>\n",
       "      <th></th>\n",
       "      <th></th>\n",
       "      <th></th>\n",
       "    </tr>\n",
       "  </thead>\n",
       "  <tbody>\n",
       "    <tr>\n",
       "      <th>2006-04-01 00:00:00+02:00</th>\n",
       "      <td>9.472222</td>\n",
       "      <td>7.388889</td>\n",
       "      <td>0.89</td>\n",
       "      <td>14.1197</td>\n",
       "      <td>251.0</td>\n",
       "      <td>15.8263</td>\n",
       "      <td>1015.13</td>\n",
       "      <td>0</td>\n",
       "    </tr>\n",
       "    <tr>\n",
       "      <th>2006-04-01 01:00:00+02:00</th>\n",
       "      <td>9.355556</td>\n",
       "      <td>7.227778</td>\n",
       "      <td>0.86</td>\n",
       "      <td>14.2646</td>\n",
       "      <td>259.0</td>\n",
       "      <td>15.8263</td>\n",
       "      <td>1015.63</td>\n",
       "      <td>0</td>\n",
       "    </tr>\n",
       "    <tr>\n",
       "      <th>2006-04-01 02:00:00+02:00</th>\n",
       "      <td>9.377778</td>\n",
       "      <td>9.377778</td>\n",
       "      <td>0.89</td>\n",
       "      <td>3.9284</td>\n",
       "      <td>204.0</td>\n",
       "      <td>14.9569</td>\n",
       "      <td>1015.94</td>\n",
       "      <td>0</td>\n",
       "    </tr>\n",
       "    <tr>\n",
       "      <th>2006-04-01 03:00:00+02:00</th>\n",
       "      <td>8.288889</td>\n",
       "      <td>5.944444</td>\n",
       "      <td>0.83</td>\n",
       "      <td>14.1036</td>\n",
       "      <td>269.0</td>\n",
       "      <td>15.8263</td>\n",
       "      <td>1016.41</td>\n",
       "      <td>0</td>\n",
       "    </tr>\n",
       "    <tr>\n",
       "      <th>2006-04-01 04:00:00+02:00</th>\n",
       "      <td>8.755556</td>\n",
       "      <td>6.977778</td>\n",
       "      <td>0.83</td>\n",
       "      <td>11.0446</td>\n",
       "      <td>259.0</td>\n",
       "      <td>15.8263</td>\n",
       "      <td>1016.51</td>\n",
       "      <td>0</td>\n",
       "    </tr>\n",
       "    <tr>\n",
       "      <th>...</th>\n",
       "      <td>...</td>\n",
       "      <td>...</td>\n",
       "      <td>...</td>\n",
       "      <td>...</td>\n",
       "      <td>...</td>\n",
       "      <td>...</td>\n",
       "      <td>...</td>\n",
       "      <td>...</td>\n",
       "    </tr>\n",
       "    <tr>\n",
       "      <th>2016-09-09 19:00:00+02:00</th>\n",
       "      <td>26.016667</td>\n",
       "      <td>26.016667</td>\n",
       "      <td>0.43</td>\n",
       "      <td>10.9963</td>\n",
       "      <td>31.0</td>\n",
       "      <td>16.1000</td>\n",
       "      <td>1014.36</td>\n",
       "      <td>0</td>\n",
       "    </tr>\n",
       "    <tr>\n",
       "      <th>2016-09-09 20:00:00+02:00</th>\n",
       "      <td>24.583333</td>\n",
       "      <td>24.583333</td>\n",
       "      <td>0.48</td>\n",
       "      <td>10.0947</td>\n",
       "      <td>20.0</td>\n",
       "      <td>15.5526</td>\n",
       "      <td>1015.16</td>\n",
       "      <td>0</td>\n",
       "    </tr>\n",
       "    <tr>\n",
       "      <th>2016-09-09 21:00:00+02:00</th>\n",
       "      <td>22.038889</td>\n",
       "      <td>22.038889</td>\n",
       "      <td>0.56</td>\n",
       "      <td>8.9838</td>\n",
       "      <td>30.0</td>\n",
       "      <td>16.1000</td>\n",
       "      <td>1015.66</td>\n",
       "      <td>0</td>\n",
       "    </tr>\n",
       "    <tr>\n",
       "      <th>2016-09-09 22:00:00+02:00</th>\n",
       "      <td>21.522222</td>\n",
       "      <td>21.522222</td>\n",
       "      <td>0.60</td>\n",
       "      <td>10.5294</td>\n",
       "      <td>20.0</td>\n",
       "      <td>16.1000</td>\n",
       "      <td>1015.95</td>\n",
       "      <td>0</td>\n",
       "    </tr>\n",
       "    <tr>\n",
       "      <th>2016-09-09 23:00:00+02:00</th>\n",
       "      <td>20.438889</td>\n",
       "      <td>20.438889</td>\n",
       "      <td>0.61</td>\n",
       "      <td>5.8765</td>\n",
       "      <td>39.0</td>\n",
       "      <td>15.5204</td>\n",
       "      <td>1016.16</td>\n",
       "      <td>0</td>\n",
       "    </tr>\n",
       "  </tbody>\n",
       "</table>\n",
       "<p>95936 rows × 8 columns</p>\n",
       "</div>"
      ],
      "text/plain": [
       "                           Temperature (C)  Apparent Temperature (C)  \\\n",
       "Formatted Date                                                         \n",
       "2006-04-01 00:00:00+02:00         9.472222                  7.388889   \n",
       "2006-04-01 01:00:00+02:00         9.355556                  7.227778   \n",
       "2006-04-01 02:00:00+02:00         9.377778                  9.377778   \n",
       "2006-04-01 03:00:00+02:00         8.288889                  5.944444   \n",
       "2006-04-01 04:00:00+02:00         8.755556                  6.977778   \n",
       "...                                    ...                       ...   \n",
       "2016-09-09 19:00:00+02:00        26.016667                 26.016667   \n",
       "2016-09-09 20:00:00+02:00        24.583333                 24.583333   \n",
       "2016-09-09 21:00:00+02:00        22.038889                 22.038889   \n",
       "2016-09-09 22:00:00+02:00        21.522222                 21.522222   \n",
       "2016-09-09 23:00:00+02:00        20.438889                 20.438889   \n",
       "\n",
       "                           Humidity  Wind Speed (km/h)  \\\n",
       "Formatted Date                                           \n",
       "2006-04-01 00:00:00+02:00      0.89            14.1197   \n",
       "2006-04-01 01:00:00+02:00      0.86            14.2646   \n",
       "2006-04-01 02:00:00+02:00      0.89             3.9284   \n",
       "2006-04-01 03:00:00+02:00      0.83            14.1036   \n",
       "2006-04-01 04:00:00+02:00      0.83            11.0446   \n",
       "...                             ...                ...   \n",
       "2016-09-09 19:00:00+02:00      0.43            10.9963   \n",
       "2016-09-09 20:00:00+02:00      0.48            10.0947   \n",
       "2016-09-09 21:00:00+02:00      0.56             8.9838   \n",
       "2016-09-09 22:00:00+02:00      0.60            10.5294   \n",
       "2016-09-09 23:00:00+02:00      0.61             5.8765   \n",
       "\n",
       "                           Wind Bearing (degrees)  Visibility (km)  \\\n",
       "Formatted Date                                                       \n",
       "2006-04-01 00:00:00+02:00                   251.0          15.8263   \n",
       "2006-04-01 01:00:00+02:00                   259.0          15.8263   \n",
       "2006-04-01 02:00:00+02:00                   204.0          14.9569   \n",
       "2006-04-01 03:00:00+02:00                   269.0          15.8263   \n",
       "2006-04-01 04:00:00+02:00                   259.0          15.8263   \n",
       "...                                           ...              ...   \n",
       "2016-09-09 19:00:00+02:00                    31.0          16.1000   \n",
       "2016-09-09 20:00:00+02:00                    20.0          15.5526   \n",
       "2016-09-09 21:00:00+02:00                    30.0          16.1000   \n",
       "2016-09-09 22:00:00+02:00                    20.0          16.1000   \n",
       "2016-09-09 23:00:00+02:00                    39.0          15.5204   \n",
       "\n",
       "                           Pressure (millibars)  Precip Type_snow  \n",
       "Formatted Date                                                     \n",
       "2006-04-01 00:00:00+02:00               1015.13                 0  \n",
       "2006-04-01 01:00:00+02:00               1015.63                 0  \n",
       "2006-04-01 02:00:00+02:00               1015.94                 0  \n",
       "2006-04-01 03:00:00+02:00               1016.41                 0  \n",
       "2006-04-01 04:00:00+02:00               1016.51                 0  \n",
       "...                                         ...               ...  \n",
       "2016-09-09 19:00:00+02:00               1014.36                 0  \n",
       "2016-09-09 20:00:00+02:00               1015.16                 0  \n",
       "2016-09-09 21:00:00+02:00               1015.66                 0  \n",
       "2016-09-09 22:00:00+02:00               1015.95                 0  \n",
       "2016-09-09 23:00:00+02:00               1016.16                 0  \n",
       "\n",
       "[95936 rows x 8 columns]"
      ]
     },
     "execution_count": 200,
     "metadata": {},
     "output_type": "execute_result"
    }
   ],
   "source": [
    "data_encoded_df"
   ]
  },
  {
   "cell_type": "code",
   "execution_count": 201,
   "id": "15df9cee",
   "metadata": {},
   "outputs": [],
   "source": [
    "data_encoded_df.rename(columns = {'Precip Type_snow':'Snow'}, inplace = True)"
   ]
  },
  {
   "cell_type": "code",
   "execution_count": 83,
   "id": "bcb1c2f1",
   "metadata": {},
   "outputs": [
    {
     "data": {
      "text/html": [
       "<div>\n",
       "<style scoped>\n",
       "    .dataframe tbody tr th:only-of-type {\n",
       "        vertical-align: middle;\n",
       "    }\n",
       "\n",
       "    .dataframe tbody tr th {\n",
       "        vertical-align: top;\n",
       "    }\n",
       "\n",
       "    .dataframe thead th {\n",
       "        text-align: right;\n",
       "    }\n",
       "</style>\n",
       "<table border=\"1\" class=\"dataframe\">\n",
       "  <thead>\n",
       "    <tr style=\"text-align: right;\">\n",
       "      <th></th>\n",
       "      <th>Temperature (C)</th>\n",
       "      <th>Apparent Temperature (C)</th>\n",
       "      <th>Humidity</th>\n",
       "      <th>Wind Speed (km/h)</th>\n",
       "      <th>Wind Bearing (degrees)</th>\n",
       "      <th>Visibility (km)</th>\n",
       "      <th>Pressure (millibars)</th>\n",
       "      <th>Snow</th>\n",
       "    </tr>\n",
       "    <tr>\n",
       "      <th>Formatted Date</th>\n",
       "      <th></th>\n",
       "      <th></th>\n",
       "      <th></th>\n",
       "      <th></th>\n",
       "      <th></th>\n",
       "      <th></th>\n",
       "      <th></th>\n",
       "      <th></th>\n",
       "    </tr>\n",
       "  </thead>\n",
       "  <tbody>\n",
       "    <tr>\n",
       "      <th>2006-04-01 00:00:00+02:00</th>\n",
       "      <td>9.472222</td>\n",
       "      <td>7.388889</td>\n",
       "      <td>0.89</td>\n",
       "      <td>14.1197</td>\n",
       "      <td>251.0</td>\n",
       "      <td>15.8263</td>\n",
       "      <td>1015.13</td>\n",
       "      <td>0</td>\n",
       "    </tr>\n",
       "    <tr>\n",
       "      <th>2006-04-01 01:00:00+02:00</th>\n",
       "      <td>9.355556</td>\n",
       "      <td>7.227778</td>\n",
       "      <td>0.86</td>\n",
       "      <td>14.2646</td>\n",
       "      <td>259.0</td>\n",
       "      <td>15.8263</td>\n",
       "      <td>1015.63</td>\n",
       "      <td>0</td>\n",
       "    </tr>\n",
       "    <tr>\n",
       "      <th>2006-04-01 02:00:00+02:00</th>\n",
       "      <td>9.377778</td>\n",
       "      <td>9.377778</td>\n",
       "      <td>0.89</td>\n",
       "      <td>3.9284</td>\n",
       "      <td>204.0</td>\n",
       "      <td>14.9569</td>\n",
       "      <td>1015.94</td>\n",
       "      <td>0</td>\n",
       "    </tr>\n",
       "    <tr>\n",
       "      <th>2006-04-01 03:00:00+02:00</th>\n",
       "      <td>8.288889</td>\n",
       "      <td>5.944444</td>\n",
       "      <td>0.83</td>\n",
       "      <td>14.1036</td>\n",
       "      <td>269.0</td>\n",
       "      <td>15.8263</td>\n",
       "      <td>1016.41</td>\n",
       "      <td>0</td>\n",
       "    </tr>\n",
       "    <tr>\n",
       "      <th>2006-04-01 04:00:00+02:00</th>\n",
       "      <td>8.755556</td>\n",
       "      <td>6.977778</td>\n",
       "      <td>0.83</td>\n",
       "      <td>11.0446</td>\n",
       "      <td>259.0</td>\n",
       "      <td>15.8263</td>\n",
       "      <td>1016.51</td>\n",
       "      <td>0</td>\n",
       "    </tr>\n",
       "    <tr>\n",
       "      <th>...</th>\n",
       "      <td>...</td>\n",
       "      <td>...</td>\n",
       "      <td>...</td>\n",
       "      <td>...</td>\n",
       "      <td>...</td>\n",
       "      <td>...</td>\n",
       "      <td>...</td>\n",
       "      <td>...</td>\n",
       "    </tr>\n",
       "    <tr>\n",
       "      <th>2016-09-09 19:00:00+02:00</th>\n",
       "      <td>26.016667</td>\n",
       "      <td>26.016667</td>\n",
       "      <td>0.43</td>\n",
       "      <td>10.9963</td>\n",
       "      <td>31.0</td>\n",
       "      <td>16.1000</td>\n",
       "      <td>1014.36</td>\n",
       "      <td>0</td>\n",
       "    </tr>\n",
       "    <tr>\n",
       "      <th>2016-09-09 20:00:00+02:00</th>\n",
       "      <td>24.583333</td>\n",
       "      <td>24.583333</td>\n",
       "      <td>0.48</td>\n",
       "      <td>10.0947</td>\n",
       "      <td>20.0</td>\n",
       "      <td>15.5526</td>\n",
       "      <td>1015.16</td>\n",
       "      <td>0</td>\n",
       "    </tr>\n",
       "    <tr>\n",
       "      <th>2016-09-09 21:00:00+02:00</th>\n",
       "      <td>22.038889</td>\n",
       "      <td>22.038889</td>\n",
       "      <td>0.56</td>\n",
       "      <td>8.9838</td>\n",
       "      <td>30.0</td>\n",
       "      <td>16.1000</td>\n",
       "      <td>1015.66</td>\n",
       "      <td>0</td>\n",
       "    </tr>\n",
       "    <tr>\n",
       "      <th>2016-09-09 22:00:00+02:00</th>\n",
       "      <td>21.522222</td>\n",
       "      <td>21.522222</td>\n",
       "      <td>0.60</td>\n",
       "      <td>10.5294</td>\n",
       "      <td>20.0</td>\n",
       "      <td>16.1000</td>\n",
       "      <td>1015.95</td>\n",
       "      <td>0</td>\n",
       "    </tr>\n",
       "    <tr>\n",
       "      <th>2016-09-09 23:00:00+02:00</th>\n",
       "      <td>20.438889</td>\n",
       "      <td>20.438889</td>\n",
       "      <td>0.61</td>\n",
       "      <td>5.8765</td>\n",
       "      <td>39.0</td>\n",
       "      <td>15.5204</td>\n",
       "      <td>1016.16</td>\n",
       "      <td>0</td>\n",
       "    </tr>\n",
       "  </tbody>\n",
       "</table>\n",
       "<p>95936 rows × 8 columns</p>\n",
       "</div>"
      ],
      "text/plain": [
       "                           Temperature (C)  Apparent Temperature (C)  \\\n",
       "Formatted Date                                                         \n",
       "2006-04-01 00:00:00+02:00         9.472222                  7.388889   \n",
       "2006-04-01 01:00:00+02:00         9.355556                  7.227778   \n",
       "2006-04-01 02:00:00+02:00         9.377778                  9.377778   \n",
       "2006-04-01 03:00:00+02:00         8.288889                  5.944444   \n",
       "2006-04-01 04:00:00+02:00         8.755556                  6.977778   \n",
       "...                                    ...                       ...   \n",
       "2016-09-09 19:00:00+02:00        26.016667                 26.016667   \n",
       "2016-09-09 20:00:00+02:00        24.583333                 24.583333   \n",
       "2016-09-09 21:00:00+02:00        22.038889                 22.038889   \n",
       "2016-09-09 22:00:00+02:00        21.522222                 21.522222   \n",
       "2016-09-09 23:00:00+02:00        20.438889                 20.438889   \n",
       "\n",
       "                           Humidity  Wind Speed (km/h)  \\\n",
       "Formatted Date                                           \n",
       "2006-04-01 00:00:00+02:00      0.89            14.1197   \n",
       "2006-04-01 01:00:00+02:00      0.86            14.2646   \n",
       "2006-04-01 02:00:00+02:00      0.89             3.9284   \n",
       "2006-04-01 03:00:00+02:00      0.83            14.1036   \n",
       "2006-04-01 04:00:00+02:00      0.83            11.0446   \n",
       "...                             ...                ...   \n",
       "2016-09-09 19:00:00+02:00      0.43            10.9963   \n",
       "2016-09-09 20:00:00+02:00      0.48            10.0947   \n",
       "2016-09-09 21:00:00+02:00      0.56             8.9838   \n",
       "2016-09-09 22:00:00+02:00      0.60            10.5294   \n",
       "2016-09-09 23:00:00+02:00      0.61             5.8765   \n",
       "\n",
       "                           Wind Bearing (degrees)  Visibility (km)  \\\n",
       "Formatted Date                                                       \n",
       "2006-04-01 00:00:00+02:00                   251.0          15.8263   \n",
       "2006-04-01 01:00:00+02:00                   259.0          15.8263   \n",
       "2006-04-01 02:00:00+02:00                   204.0          14.9569   \n",
       "2006-04-01 03:00:00+02:00                   269.0          15.8263   \n",
       "2006-04-01 04:00:00+02:00                   259.0          15.8263   \n",
       "...                                           ...              ...   \n",
       "2016-09-09 19:00:00+02:00                    31.0          16.1000   \n",
       "2016-09-09 20:00:00+02:00                    20.0          15.5526   \n",
       "2016-09-09 21:00:00+02:00                    30.0          16.1000   \n",
       "2016-09-09 22:00:00+02:00                    20.0          16.1000   \n",
       "2016-09-09 23:00:00+02:00                    39.0          15.5204   \n",
       "\n",
       "                           Pressure (millibars)  Snow  \n",
       "Formatted Date                                         \n",
       "2006-04-01 00:00:00+02:00               1015.13     0  \n",
       "2006-04-01 01:00:00+02:00               1015.63     0  \n",
       "2006-04-01 02:00:00+02:00               1015.94     0  \n",
       "2006-04-01 03:00:00+02:00               1016.41     0  \n",
       "2006-04-01 04:00:00+02:00               1016.51     0  \n",
       "...                                         ...   ...  \n",
       "2016-09-09 19:00:00+02:00               1014.36     0  \n",
       "2016-09-09 20:00:00+02:00               1015.16     0  \n",
       "2016-09-09 21:00:00+02:00               1015.66     0  \n",
       "2016-09-09 22:00:00+02:00               1015.95     0  \n",
       "2016-09-09 23:00:00+02:00               1016.16     0  \n",
       "\n",
       "[95936 rows x 8 columns]"
      ]
     },
     "execution_count": 83,
     "metadata": {},
     "output_type": "execute_result"
    }
   ],
   "source": [
    "data_encoded_df"
   ]
  },
  {
   "cell_type": "code",
   "execution_count": 202,
   "id": "748ba834",
   "metadata": {},
   "outputs": [
    {
     "data": {
      "text/html": [
       "<div>\n",
       "<style scoped>\n",
       "    .dataframe tbody tr th:only-of-type {\n",
       "        vertical-align: middle;\n",
       "    }\n",
       "\n",
       "    .dataframe tbody tr th {\n",
       "        vertical-align: top;\n",
       "    }\n",
       "\n",
       "    .dataframe thead th {\n",
       "        text-align: right;\n",
       "    }\n",
       "</style>\n",
       "<table border=\"1\" class=\"dataframe\">\n",
       "  <thead>\n",
       "    <tr style=\"text-align: right;\">\n",
       "      <th></th>\n",
       "      <th>Temperature (C)</th>\n",
       "      <th>Apparent Temperature (C)</th>\n",
       "      <th>Humidity</th>\n",
       "      <th>Wind Speed (km/h)</th>\n",
       "      <th>Wind Bearing (degrees)</th>\n",
       "      <th>Visibility (km)</th>\n",
       "      <th>Pressure (millibars)</th>\n",
       "      <th>Snow</th>\n",
       "    </tr>\n",
       "  </thead>\n",
       "  <tbody>\n",
       "    <tr>\n",
       "      <th>count</th>\n",
       "      <td>95936.000000</td>\n",
       "      <td>95936.000000</td>\n",
       "      <td>95936.000000</td>\n",
       "      <td>95936.000000</td>\n",
       "      <td>95936.000000</td>\n",
       "      <td>95936.000000</td>\n",
       "      <td>95936.000000</td>\n",
       "      <td>95936.000000</td>\n",
       "    </tr>\n",
       "    <tr>\n",
       "      <th>mean</th>\n",
       "      <td>11.940976</td>\n",
       "      <td>10.862531</td>\n",
       "      <td>0.734841</td>\n",
       "      <td>10.804936</td>\n",
       "      <td>187.518773</td>\n",
       "      <td>10.362402</td>\n",
       "      <td>1003.150038</td>\n",
       "      <td>0.111658</td>\n",
       "    </tr>\n",
       "    <tr>\n",
       "      <th>std</th>\n",
       "      <td>9.570671</td>\n",
       "      <td>10.717812</td>\n",
       "      <td>0.195724</td>\n",
       "      <td>6.920727</td>\n",
       "      <td>107.385351</td>\n",
       "      <td>4.173780</td>\n",
       "      <td>117.276976</td>\n",
       "      <td>0.314947</td>\n",
       "    </tr>\n",
       "    <tr>\n",
       "      <th>min</th>\n",
       "      <td>-21.822222</td>\n",
       "      <td>-27.716667</td>\n",
       "      <td>0.000000</td>\n",
       "      <td>0.000000</td>\n",
       "      <td>0.000000</td>\n",
       "      <td>0.000000</td>\n",
       "      <td>0.000000</td>\n",
       "      <td>0.000000</td>\n",
       "    </tr>\n",
       "    <tr>\n",
       "      <th>25%</th>\n",
       "      <td>4.604167</td>\n",
       "      <td>2.276389</td>\n",
       "      <td>0.600000</td>\n",
       "      <td>5.796000</td>\n",
       "      <td>116.000000</td>\n",
       "      <td>8.372000</td>\n",
       "      <td>1011.890000</td>\n",
       "      <td>0.000000</td>\n",
       "    </tr>\n",
       "    <tr>\n",
       "      <th>50%</th>\n",
       "      <td>12.033333</td>\n",
       "      <td>12.033333</td>\n",
       "      <td>0.780000</td>\n",
       "      <td>9.933700</td>\n",
       "      <td>180.000000</td>\n",
       "      <td>10.046400</td>\n",
       "      <td>1016.420000</td>\n",
       "      <td>0.000000</td>\n",
       "    </tr>\n",
       "    <tr>\n",
       "      <th>75%</th>\n",
       "      <td>18.844444</td>\n",
       "      <td>18.844444</td>\n",
       "      <td>0.890000</td>\n",
       "      <td>14.135800</td>\n",
       "      <td>290.000000</td>\n",
       "      <td>14.812000</td>\n",
       "      <td>1021.050000</td>\n",
       "      <td>0.000000</td>\n",
       "    </tr>\n",
       "    <tr>\n",
       "      <th>max</th>\n",
       "      <td>39.905556</td>\n",
       "      <td>39.344444</td>\n",
       "      <td>1.000000</td>\n",
       "      <td>63.852600</td>\n",
       "      <td>359.000000</td>\n",
       "      <td>16.100000</td>\n",
       "      <td>1046.380000</td>\n",
       "      <td>1.000000</td>\n",
       "    </tr>\n",
       "  </tbody>\n",
       "</table>\n",
       "</div>"
      ],
      "text/plain": [
       "       Temperature (C)  Apparent Temperature (C)      Humidity  \\\n",
       "count     95936.000000              95936.000000  95936.000000   \n",
       "mean         11.940976                 10.862531      0.734841   \n",
       "std           9.570671                 10.717812      0.195724   \n",
       "min         -21.822222                -27.716667      0.000000   \n",
       "25%           4.604167                  2.276389      0.600000   \n",
       "50%          12.033333                 12.033333      0.780000   \n",
       "75%          18.844444                 18.844444      0.890000   \n",
       "max          39.905556                 39.344444      1.000000   \n",
       "\n",
       "       Wind Speed (km/h)  Wind Bearing (degrees)  Visibility (km)  \\\n",
       "count       95936.000000            95936.000000     95936.000000   \n",
       "mean           10.804936              187.518773        10.362402   \n",
       "std             6.920727              107.385351         4.173780   \n",
       "min             0.000000                0.000000         0.000000   \n",
       "25%             5.796000              116.000000         8.372000   \n",
       "50%             9.933700              180.000000        10.046400   \n",
       "75%            14.135800              290.000000        14.812000   \n",
       "max            63.852600              359.000000        16.100000   \n",
       "\n",
       "       Pressure (millibars)          Snow  \n",
       "count          95936.000000  95936.000000  \n",
       "mean            1003.150038      0.111658  \n",
       "std              117.276976      0.314947  \n",
       "min                0.000000      0.000000  \n",
       "25%             1011.890000      0.000000  \n",
       "50%             1016.420000      0.000000  \n",
       "75%             1021.050000      0.000000  \n",
       "max             1046.380000      1.000000  "
      ]
     },
     "execution_count": 202,
     "metadata": {},
     "output_type": "execute_result"
    }
   ],
   "source": [
    "data_encoded_df.describe()"
   ]
  },
  {
   "cell_type": "code",
   "execution_count": 203,
   "id": "35dac640",
   "metadata": {},
   "outputs": [],
   "source": [
    "from sklearn.model_selection import train_test_split\n",
    "\n",
    "X = data_encoded_df.drop(\"Apparent Temperature (C)\", axis=1)  # zmienne niezależne (features)\n",
    "y = data_encoded_df[\"Apparent Temperature (C)\"]  # zmienna zależna (target)\n",
    "\n",
    "X_train, X_test, y_train, y_test = train_test_split(\n",
    "    X, y, test_size=0.2, random_state=42\n",
    ")"
   ]
  },
  {
   "cell_type": "code",
   "execution_count": 204,
   "id": "a04d75c0",
   "metadata": {},
   "outputs": [
    {
     "data": {
      "text/plain": [
       "(76748, 7)"
      ]
     },
     "execution_count": 204,
     "metadata": {},
     "output_type": "execute_result"
    }
   ],
   "source": [
    "X_train.shape\n"
   ]
  },
  {
   "cell_type": "code",
   "execution_count": 87,
   "id": "091c6410",
   "metadata": {},
   "outputs": [
    {
     "data": {
      "text/plain": [
       "(76748,)"
      ]
     },
     "execution_count": 87,
     "metadata": {},
     "output_type": "execute_result"
    }
   ],
   "source": [
    "y_train.shape\n"
   ]
  },
  {
   "cell_type": "code",
   "execution_count": 88,
   "id": "72a0d141",
   "metadata": {},
   "outputs": [
    {
     "data": {
      "text/plain": [
       "(19188, 7)"
      ]
     },
     "execution_count": 88,
     "metadata": {},
     "output_type": "execute_result"
    }
   ],
   "source": [
    "X_test.shape"
   ]
  },
  {
   "cell_type": "code",
   "execution_count": 89,
   "id": "415e24f9",
   "metadata": {},
   "outputs": [
    {
     "data": {
      "text/plain": [
       "(19188,)"
      ]
     },
     "execution_count": 89,
     "metadata": {},
     "output_type": "execute_result"
    }
   ],
   "source": [
    "y_test.shape"
   ]
  },
  {
   "cell_type": "code",
   "execution_count": 205,
   "id": "9f416cbe",
   "metadata": {},
   "outputs": [
    {
     "data": {
      "text/plain": [
       "<AxesSubplot:>"
      ]
     },
     "execution_count": 205,
     "metadata": {},
     "output_type": "execute_result"
    },
    {
     "data": {
      "image/png": "[encoded data removed]",
      "text/plain": [
       "<Figure size 1008x576 with 2 Axes>"
      ]
     },
     "metadata": {
      "needs_background": "light"
     },
     "output_type": "display_data"
    }
   ],
   "source": [
    "# correlation plot\n",
    "plt.figure(figsize=(14, 8))\n",
    "sns.heatmap(X_train.corr(), annot=True)"
   ]
  },
  {
   "cell_type": "code",
   "execution_count": 91,
   "id": "b45ebf3a",
   "metadata": {},
   "outputs": [
    {
     "data": {
      "text/html": [
       "<div>\n",
       "<style scoped>\n",
       "    .dataframe tbody tr th:only-of-type {\n",
       "        vertical-align: middle;\n",
       "    }\n",
       "\n",
       "    .dataframe tbody tr th {\n",
       "        vertical-align: top;\n",
       "    }\n",
       "\n",
       "    .dataframe thead th {\n",
       "        text-align: right;\n",
       "    }\n",
       "</style>\n",
       "<table border=\"1\" class=\"dataframe\">\n",
       "  <thead>\n",
       "    <tr style=\"text-align: right;\">\n",
       "      <th></th>\n",
       "      <th>Temperature (C)</th>\n",
       "      <th>Humidity</th>\n",
       "      <th>Wind Speed (km/h)</th>\n",
       "      <th>Wind Bearing (degrees)</th>\n",
       "      <th>Visibility (km)</th>\n",
       "      <th>Pressure (millibars)</th>\n",
       "      <th>Snow</th>\n",
       "      <th>Apparent Temperature (C)</th>\n",
       "    </tr>\n",
       "  </thead>\n",
       "  <tbody>\n",
       "    <tr>\n",
       "      <th>Temperature (C)</th>\n",
       "      <td>1.000000</td>\n",
       "      <td>-0.632664</td>\n",
       "      <td>0.008746</td>\n",
       "      <td>0.029807</td>\n",
       "      <td>0.393749</td>\n",
       "      <td>-0.007231</td>\n",
       "      <td>-0.564045</td>\n",
       "      <td>0.992635</td>\n",
       "    </tr>\n",
       "    <tr>\n",
       "      <th>Humidity</th>\n",
       "      <td>-0.632664</td>\n",
       "      <td>1.000000</td>\n",
       "      <td>-0.225565</td>\n",
       "      <td>0.001930</td>\n",
       "      <td>-0.369861</td>\n",
       "      <td>0.005770</td>\n",
       "      <td>0.235186</td>\n",
       "      <td>-0.602817</td>\n",
       "    </tr>\n",
       "    <tr>\n",
       "      <th>Wind Speed (km/h)</th>\n",
       "      <td>0.008746</td>\n",
       "      <td>-0.225565</td>\n",
       "      <td>1.000000</td>\n",
       "      <td>0.104438</td>\n",
       "      <td>0.101217</td>\n",
       "      <td>-0.050330</td>\n",
       "      <td>-0.069429</td>\n",
       "      <td>-0.057057</td>\n",
       "    </tr>\n",
       "    <tr>\n",
       "      <th>Wind Bearing (degrees)</th>\n",
       "      <td>0.029807</td>\n",
       "      <td>0.001930</td>\n",
       "      <td>0.104438</td>\n",
       "      <td>1.000000</td>\n",
       "      <td>0.048803</td>\n",
       "      <td>-0.012855</td>\n",
       "      <td>-0.040739</td>\n",
       "      <td>0.028477</td>\n",
       "    </tr>\n",
       "    <tr>\n",
       "      <th>Visibility (km)</th>\n",
       "      <td>0.393749</td>\n",
       "      <td>-0.369861</td>\n",
       "      <td>0.101217</td>\n",
       "      <td>0.048803</td>\n",
       "      <td>1.000000</td>\n",
       "      <td>0.060571</td>\n",
       "      <td>-0.318533</td>\n",
       "      <td>0.382511</td>\n",
       "    </tr>\n",
       "    <tr>\n",
       "      <th>Pressure (millibars)</th>\n",
       "      <td>-0.007231</td>\n",
       "      <td>0.005770</td>\n",
       "      <td>-0.050330</td>\n",
       "      <td>-0.012855</td>\n",
       "      <td>0.060571</td>\n",
       "      <td>1.000000</td>\n",
       "      <td>0.011978</td>\n",
       "      <td>-0.001790</td>\n",
       "    </tr>\n",
       "    <tr>\n",
       "      <th>Snow</th>\n",
       "      <td>-0.564045</td>\n",
       "      <td>0.235186</td>\n",
       "      <td>-0.069429</td>\n",
       "      <td>-0.040739</td>\n",
       "      <td>-0.318533</td>\n",
       "      <td>0.011978</td>\n",
       "      <td>1.000000</td>\n",
       "      <td>-0.566285</td>\n",
       "    </tr>\n",
       "    <tr>\n",
       "      <th>Apparent Temperature (C)</th>\n",
       "      <td>0.992635</td>\n",
       "      <td>-0.602817</td>\n",
       "      <td>-0.057057</td>\n",
       "      <td>0.028477</td>\n",
       "      <td>0.382511</td>\n",
       "      <td>-0.001790</td>\n",
       "      <td>-0.566285</td>\n",
       "      <td>1.000000</td>\n",
       "    </tr>\n",
       "  </tbody>\n",
       "</table>\n",
       "</div>"
      ],
      "text/plain": [
       "                          Temperature (C)  Humidity  Wind Speed (km/h)  \\\n",
       "Temperature (C)                  1.000000 -0.632664           0.008746   \n",
       "Humidity                        -0.632664  1.000000          -0.225565   \n",
       "Wind Speed (km/h)                0.008746 -0.225565           1.000000   \n",
       "Wind Bearing (degrees)           0.029807  0.001930           0.104438   \n",
       "Visibility (km)                  0.393749 -0.369861           0.101217   \n",
       "Pressure (millibars)            -0.007231  0.005770          -0.050330   \n",
       "Snow                            -0.564045  0.235186          -0.069429   \n",
       "Apparent Temperature (C)         0.992635 -0.602817          -0.057057   \n",
       "\n",
       "                          Wind Bearing (degrees)  Visibility (km)  \\\n",
       "Temperature (C)                         0.029807         0.393749   \n",
       "Humidity                                0.001930        -0.369861   \n",
       "Wind Speed (km/h)                       0.104438         0.101217   \n",
       "Wind Bearing (degrees)                  1.000000         0.048803   \n",
       "Visibility (km)                         0.048803         1.000000   \n",
       "Pressure (millibars)                   -0.012855         0.060571   \n",
       "Snow                                   -0.040739        -0.318533   \n",
       "Apparent Temperature (C)                0.028477         0.382511   \n",
       "\n",
       "                          Pressure (millibars)      Snow  \\\n",
       "Temperature (C)                      -0.007231 -0.564045   \n",
       "Humidity                              0.005770  0.235186   \n",
       "Wind Speed (km/h)                    -0.050330 -0.069429   \n",
       "Wind Bearing (degrees)               -0.012855 -0.040739   \n",
       "Visibility (km)                       0.060571 -0.318533   \n",
       "Pressure (millibars)                  1.000000  0.011978   \n",
       "Snow                                  0.011978  1.000000   \n",
       "Apparent Temperature (C)             -0.001790 -0.566285   \n",
       "\n",
       "                          Apparent Temperature (C)  \n",
       "Temperature (C)                           0.992635  \n",
       "Humidity                                 -0.602817  \n",
       "Wind Speed (km/h)                        -0.057057  \n",
       "Wind Bearing (degrees)                    0.028477  \n",
       "Visibility (km)                           0.382511  \n",
       "Pressure (millibars)                     -0.001790  \n",
       "Snow                                     -0.566285  \n",
       "Apparent Temperature (C)                  1.000000  "
      ]
     },
     "execution_count": 91,
     "metadata": {},
     "output_type": "execute_result"
    }
   ],
   "source": [
    "X_train.join(y_train).corr()"
   ]
  },
  {
   "cell_type": "code",
   "execution_count": 92,
   "id": "6179301e",
   "metadata": {},
   "outputs": [
    {
     "name": "stdout",
     "output_type": "stream",
     "text": [
      "                               OLS Regression Results                               \n",
      "====================================================================================\n",
      "Dep. Variable:     Apparent Temperature (C)   R-squared:                       0.990\n",
      "Model:                                  OLS   Adj. R-squared:                  0.990\n",
      "Method:                       Least Squares   F-statistic:                 1.083e+06\n",
      "Date:                      Wed, 29 Jun 2022   Prob (F-statistic):               0.00\n",
      "Time:                              17:58:26   Log-Likelihood:            -1.1430e+05\n",
      "No. Observations:                     76748   AIC:                         2.286e+05\n",
      "Df Residuals:                         76740   BIC:                         2.287e+05\n",
      "Df Model:                                 7                                         \n",
      "Covariance Type:                  nonrobust                                         \n",
      "==========================================================================================\n",
      "                             coef    std err          t      P>|t|      [0.025      0.975]\n",
      "------------------------------------------------------------------------------------------\n",
      "const                     -2.2386      0.046    -48.508      0.000      -2.329      -2.148\n",
      "Temperature (C)            1.1156      0.001   1724.722      0.000       1.114       1.117\n",
      "Humidity                   0.8526      0.028     30.634      0.000       0.798       0.907\n",
      "Wind Speed (km/h)         -0.0982      0.001   -165.050      0.000      -0.099      -0.097\n",
      "Wind Bearing (degrees)     0.0005   3.64e-05     13.696      0.000       0.000       0.001\n",
      "Visibility (km)           -0.0056      0.001     -5.399      0.000      -0.008      -0.004\n",
      "Pressure (millibars)       0.0002    3.3e-05      6.864      0.000       0.000       0.000\n",
      "Snow                      -0.4326      0.015    -27.943      0.000      -0.463      -0.402\n",
      "==============================================================================\n",
      "Omnibus:                     2464.154   Durbin-Watson:                   1.991\n",
      "Prob(Omnibus):                  0.000   Jarque-Bera (JB):             2792.471\n",
      "Skew:                           0.423   Prob(JB):                         0.00\n",
      "Kurtosis:                       3.397   Cond. No.                     1.33e+04\n",
      "==============================================================================\n",
      "\n",
      "Notes:\n",
      "[1] Standard Errors assume that the covariance matrix of the errors is correctly specified.\n",
      "[2] The condition number is large, 1.33e+04. This might indicate that there are\n",
      "strong multicollinearity or other numerical problems.\n"
     ]
    }
   ],
   "source": [
    "from statsmodels.api import OLS\n",
    "import statsmodels.api as sm\n",
    "\n",
    "X_train_statsmodels = sm.add_constant(X_train)\n",
    "print(OLS(y_train, X_train_statsmodels).fit().summary())"
   ]
  },
  {
   "cell_type": "markdown",
   "id": "d6cbed2a",
   "metadata": {},
   "source": [
    "Interpreting the results of Linear Regression using OLS Summary\n",
    "\n",
    "Last Updated : 14 Feb, 2022\n",
    "This article is to tell you the whole interpretation of the regression summary table. There are many statistical softwares that are used for regression analysis like Matlab, Minitab, spss, R etc. but this article uses python. The Interpretation is the same for other tools as well. This article needs the basics of statistics including basic knowledge of regression, degrees of freedom, standard deviation, Residual Sum Of Squares(RSS), ESS, t statistics etc. \n",
    "\n",
    "In regression there are two types of variables i.e. dependent variable (also called explained variable) and independent variable (explanatory variable). \n",
    "\n",
    "The regression line used here is,\n",
    "\n",
    "\\hat{Y}_{i}=-3.2002+0.7529 X_{i}\n",
    "\n",
    "The summary table of the regression is given below.\n",
    "\n",
    "                                    OLS Regression Results                            \n",
    "        ==============================================================================\n",
    "        Dep. Variable:                      y   R-squared:                       0.669\n",
    "        Model:                            OLS   Adj. R-squared:                  0.667\n",
    "        Method:                 Least Squares   F-statistic:                     299.2\n",
    "        Date:                Mon, 01 Mar 2021   Prob (F-statistic):           2.33e-37\n",
    "        Time:                        16:19:34   Log-Likelihood:                -88.686\n",
    "        No. Observations:                 150   AIC:                             181.4\n",
    "        Df Residuals:                     148   BIC:                             187.4\n",
    "        Df Model:                           1                                         \n",
    "        Covariance Type:            nonrobust                                         \n",
    "        ==============================================================================\n",
    "                         coef    std err          t      P>|t|      [0.025      0.975]\n",
    "        ------------------------------------------------------------------------------\n",
    "        const         -3.2002      0.257    -12.458      0.000      -3.708      -2.693\n",
    "        x1             0.7529      0.044     17.296      0.000       0.667       0.839\n",
    "        ==============================================================================\n",
    "        Omnibus:                        3.538   Durbin-Watson:                   1.279\n",
    "        Prob(Omnibus):                  0.171   Jarque-Bera (JB):                3.589\n",
    "        Skew:                           0.357   Prob(JB):                        0.166\n",
    "        Kurtosis:                       2.744   Cond. No.                         43.4\n",
    "        ==============================================================================\n",
    "Dependent variable: Dependent variable is one that is going to depend on other variables. In this regression analysis Y is our dependent variable because we want to analyse the effect of X on Y.\n",
    "\n",
    "Model: The method of Ordinary Least Squares(OLS) is most widely used model due to its efficiency. This model gives best approximate of true population regression line. The principle of OLS is to minimize the square of errors ( ∑ei2 ).\n",
    "\n",
    "Number of observations: The number of observation is the size of our sample, i.e. N = 150.\n",
    "\n",
    "Degree of freedom(df) of residuals: \n",
    "Degree of freedom is the number of independent observations on the basis of which the sum of squares is calculated.\n",
    "\n",
    "D.f Residuals = 150 – (1+1) = 148\n",
    "\n",
    "Degree of freedom(D.f) is calculated as,      \n",
    "\n",
    " Degrees of freedom,  D . f  = N – K\n",
    "\n",
    "Where, N = sample size(no. of observations) and  K = number of variables + 1\n",
    "\n",
    "Df of model: \n",
    "Df of model = K – 1 = 2 – 1 = 1 ,\n",
    "\n",
    "Where, K = number of variables + 1\n",
    "\n",
    "Constant term: The constant terms is the intercept of the regression line. From regression line (eq…1) the intercept is -3.002. In regression we omits some independent variables that do not have much impact on the dependent variable, the intercept tells the average value of these omitted variables and noise present in model.\n",
    "\n",
    "Coefficient term: The coefficient term tells the change in Y for a unit change in X  i.e if X rises by 1 unit then Y rises by 0.7529. If you are familiar with derivatives then you can relate it as the rate of change of Y with respect to X .\n",
    "\n",
    "Standard error of parameters: Standard error is also called the standard deviation. Standard error shows the sampling variability of these parameters. Standard error is calculated by as – \n",
    " \n",
    "\n",
    "Standard error of intercept term (b1): \n",
    "\n",
    "s e\\left(b_{1}\\right)=\\sqrt{\\left(\\frac{\\sum x_{i}^{2}}{n \\sum\\left(x_{i}-\\bar{x}\\right)^{2}}\\right) \\sigma^{2}}\n",
    "\n",
    "Standard error of coefficient term(b2): \n",
    "\n",
    "s e\\left(b_{2}\\right)=\\sqrt{\\frac{\\sigma^{2}}{\\sum\\left(x_{i}-\\bar{x}\\right)}}\n",
    "\n",
    "Here,  σ2 is the Standard error of regression (SER) .  And σ2 is equal to RSS( Residual Sum Of Square i.e ∑ei2 ).\n",
    "\n",
    "t – statistics: \n",
    "In theory, we assume that error term follows the normal distribution and because of this the parameters b1  and  b2 also have normal distributions with variance calculated in above section.\n",
    "\n",
    " That is , \n",
    "\n",
    "b1  ∼ N(B1, σb12)\n",
    "b2   ∼ N(B2 , σb22)\n",
    "Here B1 and B2  are true means of b1 and  b2.\n",
    "\n",
    "t – statistics are calculated by assuming  following hypothesis – \n",
    "\n",
    "H0  : B2  = 0       ( variable X has no influence on Y)\n",
    "Ha  : B2  ≠ 0      (X has significant impact on Y)\n",
    "Calculations for t – statistics :          \n",
    "\n",
    "                     t = ( b1 – B1 ) / s.e (b1)\n",
    "\n",
    " From summary table , b1 = -3.2002 and se(b1) = 0.257, So,\n",
    "\n",
    "                   t = (-3.2002 – 0) / 0.257  = -12.458\n",
    "\n",
    "Similarly,  b2 = 0.7529 , se(b2) = 0.044\n",
    "\n",
    "                   t = (0.7529 – 0) / 0.044  = 17.296\n",
    "\n",
    "p – values: \n",
    "In theory, we read that p-value is the probability of obtaining the t statistics at least as contradictory to H0  as calculated from assuming that the null hypothesis is true. In the summary table, we can see that P-value for both parameters is equal to 0. This is not exactly 0, but since we have very larger statistics (-12.458 and 17.296) p-value will be approximately 0.\n",
    "\n",
    "If you know about significance levels then you can see that we can reject the null hypothesis at almost every significance level.\n",
    "\n",
    "Confidence intervals:\n",
    "There are many approaches to test the hypothesis, including the p-value approach mentioned above. The confidence interval approach is one of them. 5% is the standard significance level (∝) at which C.I’s are made. \n",
    "\n",
    "C.I for B1 is ( b1 – t∝/2 s.e(b1) , b1 + t∝/2 s.e(b1) )\n",
    "\n",
    "Since ∝ = 5 %, b1 = -3.2002, s.e(b1) =0.257 , from t table , t0.025,148 = 1.655,\n",
    "\n",
    "After putting values the C.I for B1 is approx. ( -3.708 , -2.693 ). Same can be done for b2 as well.\n",
    "\n",
    "While calculating p values we rejected the null hypothesis we can see same in C.I as well. Since 0 does not lie in any of the intervals so we will reject the null hypothesis. \n",
    "\n",
    "\n",
    "\n",
    " R – squared value: \n",
    "R2 is the coefficient of determination that tells us that how much percentage variation independent variable can be explained by independent variable. Here, 66.9 % variation in Y can be explained by X. The maximum possible value of R2  can be 1, means the larger the R2  value better the regression.\n",
    "\n",
    "F – statistic: \n",
    "F test tells the goodness of fit of a regression. The test is similar to the t-test or other tests we do for the hypothesis. The F – statistic is calculated as below –                    \n",
    "\n",
    "F=\\frac{R^{2} /(k-1)}{\\left(1-R^{2}\\right) /(n-k)}\n",
    "\n",
    "Inserting the values of R2, n and k, F = (0.669/1) / (0.331/148) = 229.12.\n",
    "\n",
    "You can calculate the probability of F >229.1 for 1 and 148 df, which comes to approx. 0. From this, we again reject the null hypothesis stated above. \n",
    "\n",
    "The remaining terms are not often used. Terms like Skewness and Kurtosis tells about the distribution of data. Skewness and kurtosis for the normal distribution are 0 and 3 respectively. Jarque-Bera test is used for checking whether an error has normal distribution or not.  "
   ]
  },
  {
   "cell_type": "markdown",
   "id": "8a4f5a70",
   "metadata": {},
   "source": [
    "R-squared (R2) is a statistical measure that represents the proportion of the variance for a dependent variable that's \n",
    "explained by an independent variable or variables in a regression model.\n",
    "\n",
    "Im wyższa kurtoza tym większe skupienie zbiorowości wokół wartości średniej, co daje wyraz \n",
    "w większej smukłości krzywej rozkładu. Mała jej wartość daje efekt odwrotny czyli większy rozrzut wartości, \n",
    "słabą koncentrację i, co za tym idzie, spłaszczenie krzywej liczebności."
   ]
  },
  {
   "cell_type": "code",
   "execution_count": 93,
   "id": "0842488f",
   "metadata": {},
   "outputs": [
    {
     "name": "stdout",
     "output_type": "stream",
     "text": [
      "Współczynnik regresji: [ 1.11558250e+00  8.52590949e-01 -9.81648303e-02  4.98012272e-04\n",
      " -5.62588477e-03  2.26621105e-04 -4.32628870e-01]\n",
      "Wyraz wolny: -2.2385722147351927\n"
     ]
    }
   ],
   "source": [
    "# Scikit Learn module\n",
    "from sklearn.linear_model import LinearRegression\n",
    "import numpy as np\n",
    "import sklearn.metrics as metrics\n",
    "\n",
    "lin_reg = LinearRegression()\n",
    "lin_reg.fit(X_train, y_train)\n",
    "print(f\"Współczynnik regresji: {lin_reg.coef_}\")\n",
    "print(f\"Wyraz wolny: {lin_reg.intercept_}\")"
   ]
  },
  {
   "cell_type": "code",
   "execution_count": 94,
   "id": "91bb670b",
   "metadata": {},
   "outputs": [],
   "source": [
    "import sklearn.metrics as metrics\n",
    "\n",
    "def regression_results(y_true, y_pred):\n",
    "    # Regression metrics\n",
    "    explained_variance = metrics.explained_variance_score(y_true, y_pred)\n",
    "    mean_absolute_error = metrics.mean_absolute_error(y_true, y_pred)\n",
    "    mse = metrics.mean_squared_error(y_true, y_pred)\n",
    "    # mean_squared_log_error = metrics.mean_squared_log_error(y_true, y_pred)\n",
    "    median_absolute_error = metrics.median_absolute_error(y_true, y_pred)\n",
    "    r2 = metrics.r2_score(y_true, y_pred)\n",
    "\n",
    "    print(\"explained_variance: \", round(explained_variance, 4))\n",
    "    # print(\"mean_squared_log_error: \", round(mean_squared_log_error, 4))\n",
    "    print(\"r2: \", round(r2, 4))\n",
    "    print(\"MAE: \", round(mean_absolute_error, 4))\n",
    "    print(\"MSE: \", round(mse, 4))\n",
    "    print(\"RMSE: \", round(np.sqrt(mse), 4))\n",
    "\n",
    "\n",
    "y_train_pred = lin_reg.predict(X_train)\n",
    "y_test_pred = lin_reg.predict(X_test)"
   ]
  },
  {
   "cell_type": "code",
   "execution_count": 95,
   "id": "df03ba70",
   "metadata": {},
   "outputs": [
    {
     "name": "stdout",
     "output_type": "stream",
     "text": [
      "explained_variance:  0.99\n",
      "r2:  0.99\n",
      "MAE:  0.8438\n",
      "MSE:  1.1511\n",
      "RMSE:  1.0729\n"
     ]
    }
   ],
   "source": [
    "regression_results(y_train,y_train_pred)"
   ]
  },
  {
   "cell_type": "code",
   "execution_count": 106,
   "id": "900f01f2",
   "metadata": {},
   "outputs": [
    {
     "name": "stdout",
     "output_type": "stream",
     "text": [
      "explained_variance:  0.99\n",
      "r2:  0.99\n",
      "MAE:  0.8436\n",
      "MSE:  1.1495\n",
      "RMSE:  1.0721\n"
     ]
    }
   ],
   "source": [
    "regression_results(y_test, y_test_pred)"
   ]
  },
  {
   "cell_type": "markdown",
   "id": "f8283f2e",
   "metadata": {},
   "source": [
    "RMSE interpretować"
   ]
  },
  {
   "cell_type": "markdown",
   "id": "85b6ccb9",
   "metadata": {},
   "source": [
    "Model zwraca wartość  𝑅2  99% na zbiorze testowym i na zbiorze treningowym.\n",
    "Innymi słowy 99% pierwotnej zmienności Y zostało wytłumaczone przez regresję, a 1% pozostało w zmienności resztowej. \n"
   ]
  },
  {
   "cell_type": "code",
   "execution_count": 96,
   "id": "83b4bebd",
   "metadata": {},
   "outputs": [
    {
     "name": "stderr",
     "output_type": "stream",
     "text": [
      "C:\\Users\\dorot\\AppData\\Local\\Programs\\Python\\Python310\\lib\\site-packages\\seaborn\\_decorators.py:36: FutureWarning: Pass the following variables as keyword args: x, y. From version 0.12, the only valid positional argument will be `data`, and passing other arguments without an explicit keyword will result in an error or misinterpretation.\n",
      "  warnings.warn(\n",
      "C:\\Users\\dorot\\AppData\\Local\\Programs\\Python\\Python310\\lib\\site-packages\\seaborn\\distributions.py:2619: FutureWarning: `distplot` is a deprecated function and will be removed in a future version. Please adapt your code to use either `displot` (a figure-level function with similar flexibility) or `histplot` (an axes-level function for histograms).\n",
      "  warnings.warn(msg, FutureWarning)\n"
     ]
    },
    {
     "data": {
      "text/plain": [
       "Text(0.5, 1.0, 'Test dla normalości reszt (residuals): \\n Residual eror')"
      ]
     },
     "execution_count": 96,
     "metadata": {},
     "output_type": "execute_result"
    },
    {
     "data": {
      "image/png": "[encoded data removed]",
      "text/plain": [
       "<Figure size 1008x360 with 2 Axes>"
      ]
     },
     "metadata": {
      "needs_background": "light"
     },
     "output_type": "display_data"
    }
   ],
   "source": [
    "# Check for Linearity\n",
    "f = plt.figure(figsize=(14, 5))\n",
    "ax = f.add_subplot(121)\n",
    "sns.scatterplot(y_test, y_test_pred, ax=ax, color=\"r\")\n",
    "ax.set_title(\"Test liniowej zależności:\\n Actual Vs Predicted value\")\n",
    "\n",
    "# Check for Residual normality & mean\n",
    "ax = f.add_subplot(122)\n",
    "sns.distplot((y_test - y_test_pred), ax=ax, color=\"b\")\n",
    "ax.axvline((y_test - y_test_pred).mean(), color=\"k\", linestyle=\"--\")\n",
    "ax.set_title(\"Test dla normalości reszt (residuals): \\n Residual eror\")"
   ]
  },
  {
   "cell_type": "code",
   "execution_count": 206,
   "id": "4ae36904",
   "metadata": {},
   "outputs": [
    {
     "data": {
      "image/png": "[encoded data removed]",
      "text/plain": [
       "<Figure size 1008x432 with 2 Axes>"
      ]
     },
     "metadata": {
      "needs_background": "light"
     },
     "output_type": "display_data"
    }
   ],
   "source": [
    "# Check for Multivariate Normality\n",
    "# Quantile-Quantile plot \n",
    "f,ax = plt.subplots(1,2,figsize=(14,6))\n",
    "import scipy as sp\n",
    "_,(_,_,r)= sp.stats.probplot((y_test - y_test_pred),fit=True,plot=ax[0])\n",
    "ax[0].set_title('Test wielorakiej normaloności (Check for Multivariate Normality): \\nQ-Q Plot')\n",
    "\n",
    "#Check for Homoscedasticity\n",
    "sns.scatterplot(y = (y_test - y_test_pred), x= y_test_pred, ax = ax[1],color='r') \n",
    "ax[1].set_title('Test homoskedastyczności: \\nResidual Vs Predicted');"
   ]
  },
  {
   "cell_type": "markdown",
   "id": "a850fefb",
   "metadata": {},
   "source": [
    "Aby sprawdzić, czy nasz model ma właściwość homoskedastyczności, to znaczy sprawdzić, \n",
    "czy wariancja jego błędów jest stała, obliczymy błędy i wykreślimy je na wykresie."
   ]
  },
  {
   "cell_type": "markdown",
   "id": "eccbb031",
   "metadata": {},
   "source": [
    "Multivariate Normality–Multiple regression assumes that the residuals are \n",
    "normally distributed. No Multicollinearity—Multiple regression assumes that the \n",
    "independent variables are not highly correlated with each other. \n",
    "This assumption is tested using Variance Inflation Factor (VIF) values."
   ]
  },
  {
   "cell_type": "code",
   "execution_count": 207,
   "id": "b9fe1136",
   "metadata": {},
   "outputs": [
    {
     "data": {
      "text/plain": [
       "array([-1.14934053, -1.16233051, -1.17007961, -1.12836048, -1.14429736,\n",
       "       -1.14762536, -1.14636004, -1.14482789, -1.14674606, -1.17405976])"
      ]
     },
     "execution_count": 207,
     "metadata": {},
     "output_type": "execute_result"
    }
   ],
   "source": [
    "from sklearn.model_selection import cross_val_score\n",
    "from sklearn.model_selection import KFold\n",
    "from sklearn.linear_model import LinearRegression\n",
    "\n",
    "lm = LinearRegression()\n",
    "lm.fit(X_train, y_train)\n",
    "\n",
    "folds = KFold(n_splits=10, shuffle=True, random_state=42)\n",
    "scores = cross_val_score(lm, X_train, y_train, cv=folds, scoring=\"neg_mean_squared_error\")\n",
    "scores"
   ]
  },
  {
   "cell_type": "code",
   "execution_count": 208,
   "id": "f6b7d201",
   "metadata": {},
   "outputs": [
    {
     "data": {
      "text/plain": [
       "array([-1.14561143, -1.15661869, -1.13135851, -1.16951992, -1.15725309,\n",
       "       -1.14358493, -1.1266885 , -1.14616109, -1.19333437, -1.1439666 ])"
      ]
     },
     "execution_count": 208,
     "metadata": {},
     "output_type": "execute_result"
    }
   ],
   "source": [
    "lm = LinearRegression()\n",
    "lm.fit(X_train, y_train)\n",
    "\n",
    "#folds = KFold(n_splits=5, shuffle=True, random_state=42)\n",
    "scores = cross_val_score(lm, X_train, y_train, cv=10, scoring=\"neg_mean_squared_error\")\n",
    "scores"
   ]
  },
  {
   "cell_type": "code",
   "execution_count": 119,
   "id": "89b90297",
   "metadata": {},
   "outputs": [
    {
     "data": {
      "text/plain": [
       "array([-1.07195607, -1.07223305, -1.07065436, -1.06387884, -1.08632953,\n",
       "       -1.0724107 , -1.06450487, -1.07278865, -1.08143191, -1.07191328])"
      ]
     },
     "execution_count": 119,
     "metadata": {},
     "output_type": "execute_result"
    }
   ],
   "source": [
    "from sklearn.model_selection import cross_val_score\n",
    "from sklearn.model_selection import KFold\n",
    "from sklearn.linear_model import LinearRegression\n",
    "\n",
    "lm = LinearRegression()\n",
    "lm.fit(X, y)\n",
    "\n",
    "folds = KFold(n_splits=10, shuffle=True, random_state=42)\n",
    "scores = cross_val_score(lm, X, y, cv=folds, scoring=\"neg_root_mean_squared_error\")\n",
    "scores"
   ]
  },
  {
   "cell_type": "code",
   "execution_count": 123,
   "id": "fb67a599",
   "metadata": {},
   "outputs": [
    {
     "data": {
      "text/plain": [
       "1.1514097135895016"
      ]
     },
     "execution_count": 123,
     "metadata": {},
     "output_type": "execute_result"
    }
   ],
   "source": [
    "import numpy as np\n",
    "np.abs(scores.mean())"
   ]
  },
  {
   "cell_type": "code",
   "execution_count": 232,
   "id": "6407d4f9",
   "metadata": {},
   "outputs": [
    {
     "data": {
      "text/plain": [
       "Index(['Temperature (C)', 'Apparent Temperature (C)', 'Humidity',\n",
       "       'Wind Speed (km/h)', 'Wind Bearing (degrees)', 'Visibility (km)',\n",
       "       'Pressure (millibars)', 'Snow'],\n",
       "      dtype='object')"
      ]
     },
     "execution_count": 232,
     "metadata": {},
     "output_type": "execute_result"
    }
   ],
   "source": [
    "data_encoded_df.columns"
   ]
  },
  {
   "cell_type": "code",
   "execution_count": 233,
   "id": "0ee3051d",
   "metadata": {},
   "outputs": [],
   "source": [
    "from sklearn.model_selection import train_test_split\n",
    "\n",
    "X = data_encoded_df.drop([\"Apparent Temperature (C)\",\"Visibility (km)\",\"Wind Bearing (degrees)\",\"Pressure (millibars)\"],axis=1)  # zmienne niezależne (features)\n",
    "y = data_encoded_df[\"Apparent Temperature (C)\"]  # zmienna zależna (target)\n",
    "\n",
    "X_train, X_test, y_train, y_test = train_test_split(\n",
    "    X, y, test_size=0.2, random_state=42\n",
    ")"
   ]
  },
  {
   "cell_type": "code",
   "execution_count": 234,
   "id": "e03ef571",
   "metadata": {},
   "outputs": [
    {
     "name": "stdout",
     "output_type": "stream",
     "text": [
      "                               OLS Regression Results                               \n",
      "====================================================================================\n",
      "Dep. Variable:     Apparent Temperature (C)   R-squared:                       0.990\n",
      "Model:                                  OLS   Adj. R-squared:                  0.990\n",
      "Method:                       Least Squares   F-statistic:                 1.890e+06\n",
      "Date:                      Wed, 29 Jun 2022   Prob (F-statistic):               0.00\n",
      "Time:                              20:38:54   Log-Likelihood:            -1.1443e+05\n",
      "No. Observations:                     76748   AIC:                         2.289e+05\n",
      "Df Residuals:                         76743   BIC:                         2.289e+05\n",
      "Df Model:                                 4                                         \n",
      "Covariance Type:                  nonrobust                                         \n",
      "=====================================================================================\n",
      "                        coef    std err          t      P>|t|      [0.025      0.975]\n",
      "-------------------------------------------------------------------------------------\n",
      "const                -2.0171      0.029    -68.929      0.000      -2.074      -1.960\n",
      "Temperature (C)       1.1156      0.001   1733.420      0.000       1.114       1.117\n",
      "Humidity              0.8981      0.027     32.805      0.000       0.844       0.952\n",
      "Wind Speed (km/h)    -0.0976      0.001   -165.190      0.000      -0.099      -0.096\n",
      "Snow                 -0.4208      0.015    -27.483      0.000      -0.451      -0.391\n",
      "==============================================================================\n",
      "Omnibus:                     2525.622   Durbin-Watson:                   1.991\n",
      "Prob(Omnibus):                  0.000   Jarque-Bera (JB):             2866.558\n",
      "Skew:                           0.429   Prob(JB):                         0.00\n",
      "Kurtosis:                       3.399   Cond. No.                         188.\n",
      "==============================================================================\n",
      "\n",
      "Notes:\n",
      "[1] Standard Errors assume that the covariance matrix of the errors is correctly specified.\n"
     ]
    }
   ],
   "source": [
    "from statsmodels.api import OLS\n",
    "import statsmodels.api as sm\n",
    "\n",
    "X_train_statsmodels = sm.add_constant(X_train)\n",
    "print(OLS(y_train, X_train_statsmodels).fit().summary())"
   ]
  },
  {
   "cell_type": "code",
   "execution_count": 235,
   "id": "17cbed1b",
   "metadata": {},
   "outputs": [
    {
     "name": "stdout",
     "output_type": "stream",
     "text": [
      "Współczynnik regresji: [ 1.11556442  0.89805647 -0.09756517 -0.42081628]\n",
      "Wyraz wolny: -2.0170612359694733\n"
     ]
    }
   ],
   "source": [
    "# Scikit Learn module\n",
    "from sklearn.linear_model import LinearRegression\n",
    "import numpy as np\n",
    "import sklearn.metrics as metrics\n",
    "\n",
    "lin_reg = LinearRegression()\n",
    "lin_reg.fit(X_train, y_train)\n",
    "print(f\"Współczynnik regresji: {lin_reg.coef_}\")\n",
    "print(f\"Wyraz wolny: {lin_reg.intercept_}\")"
   ]
  },
  {
   "cell_type": "code",
   "execution_count": 236,
   "id": "dee75757",
   "metadata": {},
   "outputs": [],
   "source": [
    "import sklearn.metrics as metrics\n",
    "\n",
    "def regression_results(y_true, y_pred):\n",
    "    # Regression metrics\n",
    "    explained_variance = metrics.explained_variance_score(y_true, y_pred)\n",
    "    mean_absolute_error = metrics.mean_absolute_error(y_true, y_pred)\n",
    "    mse = metrics.mean_squared_error(y_true, y_pred)\n",
    "    # mean_squared_log_error = metrics.mean_squared_log_error(y_true, y_pred)\n",
    "    median_absolute_error = metrics.median_absolute_error(y_true, y_pred)\n",
    "    r2 = metrics.r2_score(y_true, y_pred)\n",
    "\n",
    "    print(\"explained_variance: \", round(explained_variance, 4))\n",
    "    # print(\"mean_squared_log_error: \", round(mean_squared_log_error, 4))\n",
    "    print(\"r2: \", round(r2, 4))\n",
    "    print(\"MAE: \", round(mean_absolute_error, 4))\n",
    "    print(\"MSE: \", round(mse, 4))\n",
    "    print(\"RMSE: \", round(np.sqrt(mse), 4))\n",
    "\n",
    "\n",
    "y_train_pred = lin_reg.predict(X_train)\n",
    "y_test_pred = lin_reg.predict(X_test)"
   ]
  },
  {
   "cell_type": "code",
   "execution_count": 237,
   "id": "026be619",
   "metadata": {},
   "outputs": [
    {
     "name": "stdout",
     "output_type": "stream",
     "text": [
      "explained_variance:  0.9899\n",
      "r2:  0.9899\n",
      "MAE:  0.8452\n",
      "MSE:  1.1549\n",
      "RMSE:  1.0746\n"
     ]
    }
   ],
   "source": [
    "regression_results(y_train,y_train_pred)"
   ]
  },
  {
   "cell_type": "code",
   "execution_count": 238,
   "id": "c48e7249",
   "metadata": {},
   "outputs": [
    {
     "name": "stdout",
     "output_type": "stream",
     "text": [
      "explained_variance:  0.9899\n",
      "r2:  0.9899\n",
      "MAE:  0.8454\n",
      "MSE:  1.1543\n",
      "RMSE:  1.0744\n"
     ]
    }
   ],
   "source": [
    "regression_results(y_test, y_test_pred)"
   ]
  },
  {
   "cell_type": "code",
   "execution_count": 223,
   "id": "de5af350",
   "metadata": {},
   "outputs": [
    {
     "name": "stderr",
     "output_type": "stream",
     "text": [
      "C:\\Users\\dorot\\AppData\\Local\\Programs\\Python\\Python310\\lib\\site-packages\\seaborn\\_decorators.py:36: FutureWarning: Pass the following variables as keyword args: x, y. From version 0.12, the only valid positional argument will be `data`, and passing other arguments without an explicit keyword will result in an error or misinterpretation.\n",
      "  warnings.warn(\n",
      "C:\\Users\\dorot\\AppData\\Local\\Programs\\Python\\Python310\\lib\\site-packages\\seaborn\\distributions.py:2619: FutureWarning: `distplot` is a deprecated function and will be removed in a future version. Please adapt your code to use either `displot` (a figure-level function with similar flexibility) or `histplot` (an axes-level function for histograms).\n",
      "  warnings.warn(msg, FutureWarning)\n"
     ]
    },
    {
     "data": {
      "text/plain": [
       "Text(0.5, 1.0, 'Test dla normalości reszt (residuals): \\n Residual eror')"
      ]
     },
     "execution_count": 223,
     "metadata": {},
     "output_type": "execute_result"
    },
    {
     "data": {
      "image/png": "[encoded data removed]",
      "text/plain": [
       "<Figure size 1008x360 with 2 Axes>"
      ]
     },
     "metadata": {
      "needs_background": "light"
     },
     "output_type": "display_data"
    }
   ],
   "source": [
    "# Check for Linearity\n",
    "f = plt.figure(figsize=(14, 5))\n",
    "ax = f.add_subplot(121)\n",
    "sns.scatterplot(y_test, y_test_pred, ax=ax, color=\"r\")\n",
    "ax.set_title(\"Test liniowej zależności:\\n Actual Vs Predicted value\")\n",
    "\n",
    "# Check for Residual normality & mean\n",
    "ax = f.add_subplot(122)\n",
    "sns.distplot((y_test - y_test_pred), ax=ax, color=\"b\")\n",
    "ax.axvline((y_test - y_test_pred).mean(), color=\"k\", linestyle=\"--\")\n",
    "ax.set_title(\"Test dla normalości reszt (residuals): \\n Residual eror\")"
   ]
  },
  {
   "cell_type": "code",
   "execution_count": 224,
   "id": "1d687fe3",
   "metadata": {},
   "outputs": [
    {
     "data": {
      "image/png": "[encoded data removed]",
      "text/plain": [
       "<Figure size 1008x432 with 2 Axes>"
      ]
     },
     "metadata": {
      "needs_background": "light"
     },
     "output_type": "display_data"
    }
   ],
   "source": [
    "# Check for Multivariate Normality\n",
    "# Quantile-Quantile plot \n",
    "f,ax = plt.subplots(1,2,figsize=(14,6))\n",
    "import scipy as sp\n",
    "_,(_,_,r)= sp.stats.probplot((y_test - y_test_pred),fit=True,plot=ax[0])\n",
    "ax[0].set_title('Test wielorakiej normaloności (Check for Multivariate Normality): \\nQ-Q Plot')\n",
    "\n",
    "#Check for Homoscedasticity\n",
    "sns.scatterplot(y = (y_test - y_test_pred), x= y_test_pred, ax = ax[1],color='r') \n",
    "ax[1].set_title('Test homoskedastyczności: \\nResidual Vs Predicted');"
   ]
  },
  {
   "cell_type": "code",
   "execution_count": 239,
   "id": "b2f7d0af",
   "metadata": {},
   "outputs": [
    {
     "data": {
      "text/plain": [
       "array([-1.15494826, -1.16628487, -1.17244747, -1.13212495, -1.14811427,\n",
       "       -1.15149905, -1.14919817, -1.14890702, -1.15108579, -1.17668353])"
      ]
     },
     "execution_count": 239,
     "metadata": {},
     "output_type": "execute_result"
    }
   ],
   "source": [
    "from sklearn.model_selection import cross_val_score\n",
    "from sklearn.model_selection import KFold\n",
    "from sklearn.linear_model import LinearRegression\n",
    "\n",
    "lm = LinearRegression()\n",
    "lm.fit(X_train, y_train)\n",
    "\n",
    "folds = KFold(n_splits=10, shuffle=True, random_state=42)\n",
    "scores = cross_val_score(lm, X_train, y_train, cv=folds, scoring=\"neg_mean_squared_error\")\n",
    "scores"
   ]
  },
  {
   "cell_type": "code",
   "execution_count": 226,
   "id": "cbb95399",
   "metadata": {},
   "outputs": [
    {
     "data": {
      "text/plain": [
       "array([-1.57690414, -1.54224489, -1.54809821, -1.58075206, -1.54326219,\n",
       "       -1.54886718, -1.55487677, -1.55156251, -1.64240359, -1.56883616])"
      ]
     },
     "execution_count": 226,
     "metadata": {},
     "output_type": "execute_result"
    }
   ],
   "source": [
    "lm = LinearRegression()\n",
    "lm.fit(X_train, y_train)\n",
    "\n",
    "#folds = KFold(n_splits=5, shuffle=True, random_state=42)\n",
    "scores = cross_val_score(lm, X_train, y_train, cv=10, scoring=\"neg_mean_squared_error\")\n",
    "scores"
   ]
  },
  {
   "cell_type": "code",
   "execution_count": 227,
   "id": "0d3f72b7",
   "metadata": {},
   "outputs": [
    {
     "data": {
      "text/plain": [
       "array([-1.25675079, -1.24094877, -1.25534348, -1.23644431, -1.25712412,\n",
       "       -1.24400262, -1.24835058, -1.24629219, -1.26584497, -1.25663856])"
      ]
     },
     "execution_count": 227,
     "metadata": {},
     "output_type": "execute_result"
    }
   ],
   "source": [
    "from sklearn.model_selection import cross_val_score\n",
    "from sklearn.model_selection import KFold\n",
    "from sklearn.linear_model import LinearRegression\n",
    "\n",
    "lm = LinearRegression()\n",
    "lm.fit(X, y)\n",
    "\n",
    "folds = KFold(n_splits=10, shuffle=True, random_state=42)\n",
    "scores = cross_val_score(lm, X, y, cv=folds, scoring=\"neg_root_mean_squared_error\")\n",
    "scores"
   ]
  },
  {
   "cell_type": "code",
   "execution_count": 228,
   "id": "a58e52a3",
   "metadata": {},
   "outputs": [
    {
     "data": {
      "text/plain": [
       "1.250774040910628"
      ]
     },
     "execution_count": 228,
     "metadata": {},
     "output_type": "execute_result"
    }
   ],
   "source": [
    "import numpy as np\n",
    "np.abs(scores.mean())"
   ]
  },
  {
   "cell_type": "code",
   "execution_count": null,
   "id": "e5669bf3",
   "metadata": {},
   "outputs": [],
   "source": []
  }
 ],
 "metadata": {
  "kernelspec": {
   "display_name": "Python 3 (ipykernel)",
   "language": "python",
   "name": "python3"
  },
  "language_info": {
   "codemirror_mode": {
    "name": "ipython",
    "version": 3
   },
   "file_extension": ".py",
   "mimetype": "text/x-python",
   "name": "python",
   "nbconvert_exporter": "python",
   "pygments_lexer": "ipython3",
   "version": "3.10.4"
  }
 },
 "nbformat": 4,
 "nbformat_minor": 5
}
